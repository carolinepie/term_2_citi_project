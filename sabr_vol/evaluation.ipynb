{
 "cells":[
  {
   "cell_type":"code",
   "source":[
    "import numpy as np\n",
    "import pandas as pd\n",
    "from matplotlib import pyplot as plt\n",
    "\n",
    "from sklearn.metrics import r2_score, mean_absolute_error as mae, mean_absolute_percentage_error as mape"
   ],
   "execution_count":1,
   "outputs":[
    
   ],
   "metadata":{
    "datalore":{
     "type":"CODE",
     "hide_input_from_viewers":false,
     "hide_output_from_viewers":false,
     "node_id":"2x6imWbbqwzTVnSW021adM"
    }
   }
  },
  {
   "cell_type":"code",
   "source":[
    "# read in csvs\n",
    "def prep_df(file): # path: eg. \"nn_pred_data.pkl\"\n",
    "    print(file)\n",
    "    data_path = \"\/data\/workspace_files\/\"\n",
    "    full_df = pd.read_pickle(data_path + file)\n",
    "    full_df['S\/K'] = full_df['S'] \/ full_df['K']\n",
    "    full_df = full_df.reindex([full_df.columns.tolist()[-1]]+full_df.columns.tolist()[:-1], axis=1)\n",
    "\n",
    "    train_df = full_df[full_df['is_train'] == True]\n",
    "    test_df = full_df[full_df['is_train'] == False]\n",
    "\n",
    "    print(train_df.shape)\n",
    "    print(test_df.shape)\n",
    "    return train_df, test_df\n",
    "\n",
    "\n",
    "base_trn, base_tst = prep_df(\"nn_pred_data.pkl\")\n",
    "new_trn, new_tst = prep_df(\"nn_pred_data_30patience.pkl\")"
   ],
   "execution_count":2,
   "outputs":[
    {
     "name":"stdout",
     "text":[
      "nn_pred_data.pkl\n",
      "(25920, 13)\n",
      "(38880, 13)\n",
      "nn_pred_data_30patience.pkl\n",
      "(25920, 13)\n",
      "(38880, 13)\n"
     ],
     "output_type":"stream"
    }
   ],
   "metadata":{
    "datalore":{
     "type":"CODE",
     "hide_input_from_viewers":false,
     "hide_output_from_viewers":false,
     "node_id":"Ib98kuP4A9TWKn6MhyfTNK"
    }
   }
  },
  {
   "cell_type":"code",
   "source":[
    "def mapeerror(output, target):\n",
    "    return np.mean(np.abs(output - target) \/ np.abs(target))\n",
    "\n",
    "def maxerror(output, target):\n",
    "    return np.max(np.abs(output - target))\n",
    "\n",
    "def mixederror(output, target):\n",
    "    return mapeerror(output, target) + maxerror(output, target)\n",
    "\n",
    "def print_basic_metrics(train, test, mode):\n",
    "    test = test.copy()\n",
    "    print(f'mode: {mode}')\n",
    "    # basic metrics:\n",
    "    metrics_func_dict = {\"mae\": mae, \"mape\": mapeerror, \"max\": maxerror, \"mixed\": mixederror}\n",
    "    for key, func in metrics_func_dict.items():\n",
    "        print(f\"{key}: train : {func(train[mode], train['Lognormal_vol'])}, test : {func(test[mode], test['Lognormal_vol'])}\")\n",
    "\n",
    "def absolute_error_analysis(output, mode, quantile=0.95):\n",
    "    # absolute difference\n",
    "    output['diff'] = np.abs(output['Lognormal_vol'] - output[mode])\n",
    "    print(f'absolute difference: test')\n",
    "    print(output['diff'].describe())\n",
    "\n",
    "    # max location\n",
    "    print(f'{quantile * 100}th quantile absolute error distribution (normalized by sampling): test')\n",
    "    limit = output['diff'].quantile(quantile)\n",
    "    outliers = output[output['diff'] >= limit]\n",
    "\n",
    "    S_K = outliers['S\/K'].value_counts() \/ output['S\/K'].value_counts()\n",
    "    plt.plot(S_K.index, S_K.fillna(0))\n",
    "    for col in ['T', 'V_atm', 'Beta', 'Rho', 'Volvol']:\n",
    "        print(f\"\\n{col}: \")\n",
    "        ratio = outliers[col].value_counts() \/ output[col].value_counts()\n",
    "        print( ratio.fillna(0) ) # % of outliers with this col\n",
    "    return output['diff']"
   ],
   "execution_count":3,
   "outputs":[
    
   ],
   "metadata":{
    "datalore":{
     "type":"CODE",
     "hide_input_from_viewers":false,
     "hide_output_from_viewers":false,
     "node_id":"pAKfwJwYMWjP3MfvV4OpSZ"
    }
   }
  },
  {
   "cell_type":"code",
   "source":[
    "base_trn[''].describe()"
   ],
   "execution_count":8,
   "outputs":[
    {
     "data":{
      "text\/html":[
       "<div>\n",
       "<style scoped>\n",
       "    .dataframe tbody tr th:only-of-type {\n",
       "        vertical-align: middle;\n",
       "    }\n",
       "\n",
       "    .dataframe tbody tr th {\n",
       "        vertical-align: top;\n",
       "    }\n",
       "\n",
       "    .dataframe thead th {\n",
       "        text-align: right;\n",
       "    }\n",
       "<\/style>\n",
       "<table border=\"1\" class=\"dataframe\">\n",
       "  <thead>\n",
       "    <tr style=\"text-align: right;\">\n",
       "      <th><\/th>\n",
       "      <th>S\/K<\/th>\n",
       "      <th>S<\/th>\n",
       "      <th>T<\/th>\n",
       "      <th>V_atm<\/th>\n",
       "      <th>Beta<\/th>\n",
       "      <th>Rho<\/th>\n",
       "      <th>Volvol<\/th>\n",
       "      <th>K<\/th>\n",
       "      <th>Lognormal_vol<\/th>\n",
       "      <th>pred_mapeloss<\/th>\n",
       "      <th>pred_maxloss<\/th>\n",
       "      <th>pred_mixedloss<\/th>\n",
       "    <\/tr>\n",
       "  <\/thead>\n",
       "  <tbody>\n",
       "    <tr>\n",
       "      <th>count<\/th>\n",
       "      <td>25920.000000<\/td>\n",
       "      <td>25920.000000<\/td>\n",
       "      <td>25920.000000<\/td>\n",
       "      <td>25920.000000<\/td>\n",
       "      <td>25920.000000<\/td>\n",
       "      <td>25920.000000<\/td>\n",
       "      <td>25920.000000<\/td>\n",
       "      <td>25920.000000<\/td>\n",
       "      <td>25920.000000<\/td>\n",
       "      <td>25920.000000<\/td>\n",
       "      <td>25920.000000<\/td>\n",
       "      <td>25920.000000<\/td>\n",
       "    <\/tr>\n",
       "    <tr>\n",
       "      <th>mean<\/th>\n",
       "      <td>2.052840<\/td>\n",
       "      <td>0.052677<\/td>\n",
       "      <td>10.253009<\/td>\n",
       "      <td>0.007977<\/td>\n",
       "      <td>0.399560<\/td>\n",
       "      <td>0.001728<\/td>\n",
       "      <td>0.249057<\/td>\n",
       "      <td>0.052917<\/td>\n",
       "      <td>0.174176<\/td>\n",
       "      <td>0.169766<\/td>\n",
       "      <td>0.251360<\/td>\n",
       "      <td>0.172290<\/td>\n",
       "    <\/tr>\n",
       "    <tr>\n",
       "      <th>std<\/th>\n",
       "      <td>3.263347<\/td>\n",
       "      <td>0.029741<\/td>\n",
       "      <td>6.874312<\/td>\n",
       "      <td>0.005729<\/td>\n",
       "      <td>0.300005<\/td>\n",
       "      <td>0.327186<\/td>\n",
       "      <td>0.176997<\/td>\n",
       "      <td>0.029767<\/td>\n",
       "      <td>0.365159<\/td>\n",
       "      <td>0.356391<\/td>\n",
       "      <td>0.353221<\/td>\n",
       "      <td>0.367447<\/td>\n",
       "    <\/tr>\n",
       "    <tr>\n",
       "      <th>min<\/th>\n",
       "      <td>0.050000<\/td>\n",
       "      <td>0.005000<\/td>\n",
       "      <td>0.500000<\/td>\n",
       "      <td>0.001000<\/td>\n",
       "      <td>0.100000<\/td>\n",
       "      <td>-0.400000<\/td>\n",
       "      <td>0.000100<\/td>\n",
       "      <td>0.005000<\/td>\n",
       "      <td>0.004975<\/td>\n",
       "      <td>0.005316<\/td>\n",
       "      <td>-0.057283<\/td>\n",
       "      <td>0.005019<\/td>\n",
       "    <\/tr>\n",
       "    <tr>\n",
       "      <th>25%<\/th>\n",
       "      <td>0.527363<\/td>\n",
       "      <td>0.030909<\/td>\n",
       "      <td>5.375000<\/td>\n",
       "      <td>0.001000<\/td>\n",
       "      <td>0.100000<\/td>\n",
       "      <td>-0.400000<\/td>\n",
       "      <td>0.125075<\/td>\n",
       "      <td>0.030909<\/td>\n",
       "      <td>0.009706<\/td>\n",
       "      <td>0.009450<\/td>\n",
       "      <td>0.062086<\/td>\n",
       "      <td>0.008963<\/td>\n",
       "    <\/tr>\n",
       "    <tr>\n",
       "      <th>50%<\/th>\n",
       "      <td>1.000000<\/td>\n",
       "      <td>0.056818<\/td>\n",
       "      <td>10.250000<\/td>\n",
       "      <td>0.008000<\/td>\n",
       "      <td>0.100000<\/td>\n",
       "      <td>0.000000<\/td>\n",
       "      <td>0.250050<\/td>\n",
       "      <td>0.056818<\/td>\n",
       "      <td>0.034979<\/td>\n",
       "      <td>0.035007<\/td>\n",
       "      <td>0.168364<\/td>\n",
       "      <td>0.034311<\/td>\n",
       "    <\/tr>\n",
       "    <tr>\n",
       "      <th>75%<\/th>\n",
       "      <td>1.896226<\/td>\n",
       "      <td>0.082727<\/td>\n",
       "      <td>15.125000<\/td>\n",
       "      <td>0.015000<\/td>\n",
       "      <td>0.700000<\/td>\n",
       "      <td>0.400000<\/td>\n",
       "      <td>0.375025<\/td>\n",
       "      <td>0.082727<\/td>\n",
       "      <td>0.128913<\/td>\n",
       "      <td>0.121284<\/td>\n",
       "      <td>0.259374<\/td>\n",
       "      <td>0.122560<\/td>\n",
       "    <\/tr>\n",
       "    <tr>\n",
       "      <th>max<\/th>\n",
       "      <td>20.000000<\/td>\n",
       "      <td>0.100000<\/td>\n",
       "      <td>20.000000<\/td>\n",
       "      <td>0.015000<\/td>\n",
       "      <td>0.700000<\/td>\n",
       "      <td>0.400000<\/td>\n",
       "      <td>0.500000<\/td>\n",
       "      <td>0.100000<\/td>\n",
       "      <td>1.387807<\/td>\n",
       "      <td>1.278923<\/td>\n",
       "      <td>1.343452<\/td>\n",
       "      <td>1.393796<\/td>\n",
       "    <\/tr>\n",
       "  <\/tbody>\n",
       "<\/table>\n",
       "<\/div>"
      ]
     },
     "metadata":{
      
     },
     "output_type":"display_data"
    }
   ],
   "metadata":{
    "datalore":{
     "type":"CODE",
     "hide_input_from_viewers":false,
     "hide_output_from_viewers":false,
     "node_id":"1QZQntHBlaKmnJjMjjrUa5"
    }
   }
  },
  {
   "cell_type":"code",
   "source":[
    "for mode in ['pred_mapeloss', 'pred_maxloss', 'pred_mixedloss']:\n",
    "    print('base')\n",
    "    print_basic_metrics(base_trn, base_tst, mode)\n",
    "    print('30 patience')\n",
    "    print_basic_metrics(new_trn, new_tst, mode)\n",
    "    print('\\n')"
   ],
   "execution_count":4,
   "outputs":[
    {
     "name":"stdout",
     "text":[
      "base\n",
      "mode: pred_mapeloss\n",
      "mae: train : 0.005640919777674426, test : 0.005869179089933592\n",
      "mape: train : 0.03587095400624075, test : 0.03583260140391722\n",
      "max: train : 0.13367372350196538, test : 0.13226170763125555\n",
      "mixed: train : 0.16954467750820612, test : 0.16809430903517278\n",
      "30 patience\n",
      "mode: pred_mapeloss\n",
      "mae: train : 0.005576053333176417, test : 0.0058348014056127445\n",
      "mape: train : 0.028289112170992843, test : 0.02831884553519941\n",
      "max: train : 0.15154176549415288, test : 0.15559293545123842\n",
      "mixed: train : 0.17983087766514572, test : 0.18391178098643784\n",
      "\n",
      "\n",
      "base\n",
      "mode: pred_maxloss\n",
      "mae: train : 0.09200417817966396, test : 0.09117057931730609\n",
      "mape: train : 4.63612795094538, test : 4.581172780872611\n",
      "max: train : 0.232012500550224, test : 0.23189287553855784\n",
      "mixed: train : 4.868140451495604, test : 4.813065656411168\n",
      "30 patience\n",
      "mode: pred_maxloss\n",
      "mae: train : 0.017559521291549262, test : 0.01763824750058215\n",
      "mape: train : 1.0585845725820298, test : 1.0715529787849798\n",
      "max: train : 0.07354859325825472, test : 0.07454121647714637\n",
      "mixed: train : 1.1321331658402844, test : 1.1460941952621262\n",
      "\n",
      "\n",
      "base\n",
      "mode: pred_mixedloss\n",
      "mae: train : 0.004379203187222006, test : 0.004384797622983713\n",
      "mape: train : 0.06547401456566762, test : 0.06472029547411287\n",
      "max: train : 0.04678080512272231, test : 0.04834163287189175\n",
      "mixed: train : 0.11225481968838993, test : 0.11306192834600462\n",
      "30 patience\n",
      "mode: pred_mixedloss\n",
      "mae: train : 0.002752985403931686, test : 0.002806199376233705\n",
      "mape: train : 0.02399929279205771, test : 0.023924446077967225\n",
      "max: train : 0.04641311482798849, test : 0.04951104479656587\n",
      "mixed: train : 0.07041240762004619, test : 0.0734354908745331\n",
      "\n",
      "\n"
     ],
     "output_type":"stream"
    }
   ],
   "metadata":{
    "datalore":{
     "type":"CODE",
     "hide_input_from_viewers":false,
     "hide_output_from_viewers":false,
     "node_id":"s7PzrboXt6MjQ9G2qZBJOs"
    }
   }
  },
  {
   "cell_type":"code",
   "source":[
    "0.06 * 0.17"
   ],
   "execution_count":9,
   "outputs":[
    {
     "data":{
      "text\/plain":[
       "0.0102"
      ]
     },
     "metadata":{
      
     },
     "output_type":"display_data"
    }
   ],
   "metadata":{
    "datalore":{
     "type":"CODE",
     "hide_input_from_viewers":false,
     "hide_output_from_viewers":false,
     "node_id":"NpGf0lyEUaBWZboUvHrKpz"
    }
   }
  },
  {
   "cell_type":"code",
   "source":[
    "print('base')\n",
    "base_outliers = absolute_error_analysis(base_tst, 'pred_mapeloss', quantile=0.95)"
   ],
   "execution_count":5,
   "outputs":[
    {
     "name":"stdout",
     "text":[
      "base\n",
      "absolute difference: test\n",
      "count    3.888000e+04\n",
      "mean     5.869179e-03\n",
      "std      1.564753e-02\n",
      "min      1.431759e-08\n",
      "25%      3.676969e-04\n",
      "50%      1.074106e-03\n",
      "75%      2.977201e-03\n",
      "max      1.322617e-01\n",
      "Name: diff, dtype: float64\n",
      "95.0th quantile absolute error distribution (normalized by sampling): test\n",
      "\n",
      "T: \n",
      "0.500     0.247706\n",
      "5.375     0.000000\n",
      "10.250    0.000000\n",
      "15.125    0.000000\n",
      "20.000    0.000000\n",
      "Name: T, dtype: float64\n",
      "\n",
      "V_atm: \n",
      "0.001    0.051565\n",
      "0.008    0.048010\n",
      "0.015    0.050447\n",
      "Name: V_atm, dtype: float64\n",
      "\n",
      "Beta: \n",
      "0.1    0.000000\n",
      "0.7    0.099902\n",
      "Name: Beta, dtype: float64\n",
      "\n",
      "Rho: \n",
      "-0.4    0.050058\n",
      " 0.0    0.049455\n",
      " 0.4    0.050493\n",
      "Name: Rho, dtype: float64\n",
      "\n",
      "Volvol: \n",
      "0.000100    0.053868\n",
      "0.125075    0.049749\n",
      "0.250050    0.049648\n",
      "0.375025    0.048771\n",
      "0.500000    0.048009\n",
      "Name: Volvol, dtype: float64\n"
     ],
     "output_type":"stream"
    },
    {
     "data":{
      "image\/png":"[encoded data removed]"
     },
     "metadata":{
      "image\/png":{
       
      }
     },
     "output_type":"display_data"
    }
   ],
   "metadata":{
    "datalore":{
     "type":"CODE",
     "hide_input_from_viewers":false,
     "hide_output_from_viewers":false,
     "node_id":"zvpaXoBnie98CtBLH3lN3t"
    }
   }
  },
  {
   "cell_type":"code",
   "source":[
    "print('30 patience')\n",
    "new_outliers = absolute_error_analysis(new_tst, 'pred_mapeloss', quantile=0.95)"
   ],
   "execution_count":6,
   "outputs":[
    {
     "name":"stdout",
     "text":[
      "30 patience\n",
      "absolute difference: test\n",
      "count    3.888000e+04\n",
      "mean     5.834801e-03\n",
      "std      1.633917e-02\n",
      "min      1.221122e-10\n",
      "25%      2.642769e-04\n",
      "50%      1.063990e-03\n",
      "75%      3.776797e-03\n",
      "max      1.555929e-01\n",
      "Name: diff, dtype: float64\n",
      "95.0th quantile absolute error distribution (normalized by sampling): test\n",
      "\n",
      "T: \n",
      "0.500     0.247706\n",
      "5.375     0.000000\n",
      "10.250    0.000000\n",
      "15.125    0.000000\n",
      "20.000    0.000000\n",
      "Name: T, dtype: float64\n",
      "\n",
      "V_atm: \n",
      "0.001    0.048924\n",
      "0.008    0.049314\n",
      "0.015    0.051759\n",
      "Name: V_atm, dtype: float64\n",
      "\n",
      "Beta: \n",
      "0.1    0.000000\n",
      "0.7    0.099902\n",
      "Name: Beta, dtype: float64\n",
      "\n",
      "Rho: \n",
      "-0.4    0.052830\n",
      " 0.0    0.044540\n",
      " 0.4    0.052668\n",
      "Name: Rho, dtype: float64\n",
      "\n",
      "Volvol: \n",
      "0.000100    0.051272\n",
      "0.125075    0.047950\n",
      "0.250050    0.048241\n",
      "0.375025    0.049414\n",
      "0.500000    0.053130\n",
      "Name: Volvol, dtype: float64\n"
     ],
     "output_type":"stream"
    },
    {
     "data":{
      "image\/png":"[encoded data removed]"
     },
     "metadata":{
      "image\/png":{
       
      }
     },
     "output_type":"display_data"
    }
   ],
   "metadata":{
    "datalore":{
     "type":"CODE",
     "hide_input_from_viewers":false,
     "hide_output_from_viewers":false,
     "node_id":"NDBCneHRnTYqssQlLvNQao"
    }
   }
  },
  {
   "cell_type":"code",
   "source":[
    "plt.hist(new_outliers, 20, alpha=1, label='new')\n",
    "plt.hist(base_outliers, 20, alpha=1, label='base')\n",
    "\n",
    "plt.legend(loc='upper right')\n",
    "plt.show()"
   ],
   "execution_count":7,
   "outputs":[
    {
     "data":{
      "image\/png":"[encoded data removed]"
     },
     "metadata":{
      "image\/png":{
       
      }
     },
     "output_type":"display_data"
    }
   ],
   "metadata":{
    "datalore":{
     "type":"CODE",
     "hide_input_from_viewers":false,
     "hide_output_from_viewers":false,
     "node_id":"yyxe49ut6OtVU1pTzZ1n72"
    }
   }
  }
 ],
 "metadata":{
  "datalore":{
   "version":1,
   "computation_mode":"JUPYTER",
   "package_manager":"pip",
   "base_environment":"default",
   "packages":[
    
   ]
  }
 },
 "nbformat":4,
 "nbformat_minor":4
}