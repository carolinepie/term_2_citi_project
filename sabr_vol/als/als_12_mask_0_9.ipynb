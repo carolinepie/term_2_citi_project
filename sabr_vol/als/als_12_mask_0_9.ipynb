{
 "cells":[
  {
   "cell_type":"code",
   "source":[
    "import numpy as np\n",
    "import pandas as pd\n",
    "import teneva\n",
    "from sklearn.metrics import r2_score, mean_absolute_error as MAE, mean_absolute_percentage_error as MAPE"
   ],
   "execution_count":1,
   "outputs":[
    
   ],
   "metadata":{
    "datalore":{
     "type":"CODE",
     "hide_input_from_viewers":false,
     "hide_output_from_viewers":false,
     "node_id":"y408Z6a53dYzqledCBo4CN"
    }
   }
  },
  {
   "cell_type":"markdown",
   "source":[
    "## This was run with 10% of the pysabr output as TRAINING data and 90% as TEST data. We did this to test the robustness of the ALS method and to see whether it performs well in real life scenarios when training data is sparse."
   ],
   "attachments":{
    
   },
   "metadata":{
    "datalore":{
     "type":"MD",
     "hide_input_from_viewers":false,
     "hide_output_from_viewers":false,
     "node_id":"xYRNNDpBlaYFgc6Vx9mMMx"
    }
   }
  },
  {
   "cell_type":"code",
   "source":[
    "data_path = \"\/data\/workspace_files\/\""
   ],
   "execution_count":2,
   "outputs":[
    
   ],
   "metadata":{
    "datalore":{
     "type":"CODE",
     "hide_input_from_viewers":false,
     "hide_output_from_viewers":false,
     "node_id":"ssYmNFFccZCBcGv6JZZrYl"
    }
   }
  },
  {
   "cell_type":"code",
   "source":[
    "vols = np.load(data_path + \"12_12_sample_lognormal_vol.npy\")\n",
    "vols.shape # S, T, V_atm, Beta, Rho, Volvol, (Displacement), K"
   ],
   "execution_count":3,
   "outputs":[
    {
     "data":{
      "text\/plain":[
       "(12, 5, 3, 2, 3, 5, 12)"
      ]
     },
     "metadata":{
      
     },
     "output_type":"display_data"
    }
   ],
   "metadata":{
    "datalore":{
     "type":"CODE",
     "hide_input_from_viewers":false,
     "hide_output_from_viewers":false,
     "node_id":"VbsVZ8FkzYOwr0cqwzBpz7"
    }
   }
  },
  {
   "cell_type":"code",
   "source":[
    "names = [\"S\", \"T\", \"V_atm\", \"Beta\", \"Rho\", \"Volvol\", \"K\"]\n",
    "# names = [\"S\", \"T\", \"V_atm\", \"Beta\", \"Rho\", \"Volvol\", \"Displacement\", \"K\"]\n",
    "\n",
    "vols = vols[:,:,:,:,:,:,:] # \n",
    "# names.remove(\"Rho\")\n",
    "\n",
    "vols.shape"
   ],
   "execution_count":4,
   "outputs":[
    {
     "data":{
      "text\/plain":[
       "(12, 5, 3, 2, 3, 5, 12)"
      ]
     },
     "metadata":{
      
     },
     "output_type":"display_data"
    }
   ],
   "metadata":{
    "datalore":{
     "type":"CODE",
     "hide_input_from_viewers":false,
     "hide_output_from_viewers":false,
     "node_id":"kImUBiGiQNwHKlGfkLPjvL"
    }
   }
  },
  {
   "cell_type":"code",
   "source":[
    "\n",
    "multiindex = pd.MultiIndex.from_product([range(i) for i in vols.shape],\n",
    "                                        names=names\n",
    "                                       )\n",
    "full_df = pd.DataFrame(vols.reshape((-1,1)), index=multiindex, columns=[\"Lognormal_vol\"])\n",
    "full_df.head()"
   ],
   "execution_count":5,
   "outputs":[
    {
     "data":{
      "text\/html":[
       "<div>\n",
       "<style scoped>\n",
       "    .dataframe tbody tr th:only-of-type {\n",
       "        vertical-align: middle;\n",
       "    }\n",
       "\n",
       "    .dataframe tbody tr th {\n",
       "        vertical-align: top;\n",
       "    }\n",
       "\n",
       "    .dataframe thead th {\n",
       "        text-align: right;\n",
       "    }\n",
       "<\/style>\n",
       "<table border=\"1\" class=\"dataframe\">\n",
       "  <thead>\n",
       "    <tr style=\"text-align: right;\">\n",
       "      <th><\/th>\n",
       "      <th><\/th>\n",
       "      <th><\/th>\n",
       "      <th><\/th>\n",
       "      <th><\/th>\n",
       "      <th><\/th>\n",
       "      <th><\/th>\n",
       "      <th>Lognormal_vol<\/th>\n",
       "    <\/tr>\n",
       "    <tr>\n",
       "      <th>S<\/th>\n",
       "      <th>T<\/th>\n",
       "      <th>V_atm<\/th>\n",
       "      <th>Beta<\/th>\n",
       "      <th>Rho<\/th>\n",
       "      <th>Volvol<\/th>\n",
       "      <th>K<\/th>\n",
       "      <th><\/th>\n",
       "    <\/tr>\n",
       "  <\/thead>\n",
       "  <tbody>\n",
       "    <tr>\n",
       "      <th rowspan=\"5\" valign=\"top\">0<\/th>\n",
       "      <th rowspan=\"5\" valign=\"top\">0<\/th>\n",
       "      <th rowspan=\"5\" valign=\"top\">0<\/th>\n",
       "      <th rowspan=\"5\" valign=\"top\">0<\/th>\n",
       "      <th rowspan=\"5\" valign=\"top\">0<\/th>\n",
       "      <th rowspan=\"5\" valign=\"top\">0<\/th>\n",
       "      <th>0<\/th>\n",
       "      <td>0.198020<\/td>\n",
       "    <\/tr>\n",
       "    <tr>\n",
       "      <th>1<\/th>\n",
       "      <td>0.195679<\/td>\n",
       "    <\/tr>\n",
       "    <tr>\n",
       "      <th>2<\/th>\n",
       "      <td>0.193395<\/td>\n",
       "    <\/tr>\n",
       "    <tr>\n",
       "      <th>3<\/th>\n",
       "      <td>0.191166<\/td>\n",
       "    <\/tr>\n",
       "    <tr>\n",
       "      <th>4<\/th>\n",
       "      <td>0.188990<\/td>\n",
       "    <\/tr>\n",
       "  <\/tbody>\n",
       "<\/table>\n",
       "<\/div>"
      ]
     },
     "metadata":{
      
     },
     "output_type":"display_data"
    }
   ],
   "metadata":{
    "datalore":{
     "type":"CODE",
     "hide_input_from_viewers":false,
     "hide_output_from_viewers":false,
     "node_id":"axFOUd9dbJhIS3KD1q2qk9"
    }
   }
  },
  {
   "cell_type":"code",
   "source":[
    "full_df.describe()"
   ],
   "execution_count":6,
   "outputs":[
    {
     "data":{
      "text\/html":[
       "<div>\n",
       "<style scoped>\n",
       "    .dataframe tbody tr th:only-of-type {\n",
       "        vertical-align: middle;\n",
       "    }\n",
       "\n",
       "    .dataframe tbody tr th {\n",
       "        vertical-align: top;\n",
       "    }\n",
       "\n",
       "    .dataframe thead th {\n",
       "        text-align: right;\n",
       "    }\n",
       "<\/style>\n",
       "<table border=\"1\" class=\"dataframe\">\n",
       "  <thead>\n",
       "    <tr style=\"text-align: right;\">\n",
       "      <th><\/th>\n",
       "      <th>Lognormal_vol<\/th>\n",
       "    <\/tr>\n",
       "  <\/thead>\n",
       "  <tbody>\n",
       "    <tr>\n",
       "      <th>count<\/th>\n",
       "      <td>64800.000000<\/td>\n",
       "    <\/tr>\n",
       "    <tr>\n",
       "      <th>mean<\/th>\n",
       "      <td>0.176921<\/td>\n",
       "    <\/tr>\n",
       "    <tr>\n",
       "      <th>std<\/th>\n",
       "      <td>0.368926<\/td>\n",
       "    <\/tr>\n",
       "    <tr>\n",
       "      <th>min<\/th>\n",
       "      <td>0.004975<\/td>\n",
       "    <\/tr>\n",
       "    <tr>\n",
       "      <th>25%<\/th>\n",
       "      <td>0.009706<\/td>\n",
       "    <\/tr>\n",
       "    <tr>\n",
       "      <th>50%<\/th>\n",
       "      <td>0.040484<\/td>\n",
       "    <\/tr>\n",
       "    <tr>\n",
       "      <th>75%<\/th>\n",
       "      <td>0.128974<\/td>\n",
       "    <\/tr>\n",
       "    <tr>\n",
       "      <th>max<\/th>\n",
       "      <td>1.387807<\/td>\n",
       "    <\/tr>\n",
       "  <\/tbody>\n",
       "<\/table>\n",
       "<\/div>"
      ]
     },
     "metadata":{
      
     },
     "output_type":"display_data"
    }
   ],
   "metadata":{
    "datalore":{
     "type":"CODE",
     "hide_input_from_viewers":false,
     "hide_output_from_viewers":false,
     "node_id":"x4GVWAUhHU1WhUAqjK4Nbs"
    }
   }
  },
  {
   "cell_type":"code",
   "source":[
    "# verification\n",
    "vols[0,0,1,0,0,0,2], full_df.loc[0,0,1,0,0,0,2].values.item()"
   ],
   "execution_count":7,
   "outputs":[
    {
     "data":{
      "text\/plain":[
       "(0.19339689243337468, 0.19339689243337468)"
      ]
     },
     "metadata":{
      
     },
     "output_type":"display_data"
    }
   ],
   "metadata":{
    "datalore":{
     "type":"CODE",
     "hide_input_from_viewers":false,
     "hide_output_from_viewers":false,
     "node_id":"Lgy9lwtEZ7LdT8BXJzXvox"
    }
   }
  },
  {
   "cell_type":"code",
   "source":[
    "missing_df = full_df.sample(frac=0.90, replace=False, random_state=1)\n",
    "missing_df.shape"
   ],
   "execution_count":8,
   "outputs":[
    {
     "data":{
      "text\/plain":[
       "(58320, 1)"
      ]
     },
     "metadata":{
      
     },
     "output_type":"display_data"
    }
   ],
   "metadata":{
    "datalore":{
     "type":"CODE",
     "hide_input_from_viewers":false,
     "hide_output_from_viewers":false,
     "node_id":"0wwi9I9dSG4Dl02yEutUf6"
    }
   }
  },
  {
   "cell_type":"code",
   "source":[
    "train_df = full_df.drop(missing_df.index)\n",
    "train_df.shape"
   ],
   "execution_count":9,
   "outputs":[
    {
     "data":{
      "text\/plain":[
       "(6480, 1)"
      ]
     },
     "metadata":{
      
     },
     "output_type":"display_data"
    }
   ],
   "metadata":{
    "datalore":{
     "type":"CODE",
     "hide_input_from_viewers":false,
     "hide_output_from_viewers":false,
     "node_id":"p2jX6prYSoyk6cffpdGMAZ"
    }
   }
  },
  {
   "cell_type":"code",
   "source":[
    "missing_df.shape[0] + train_df.shape[0] == full_df.shape[0]"
   ],
   "execution_count":10,
   "outputs":[
    {
     "data":{
      "text\/plain":[
       "True"
      ]
     },
     "metadata":{
      
     },
     "output_type":"display_data"
    }
   ],
   "metadata":{
    "datalore":{
     "type":"CODE",
     "hide_input_from_viewers":false,
     "hide_output_from_viewers":false,
     "node_id":"SVJ16hnPUyJM7pOLbpQEyw"
    }
   }
  },
  {
   "cell_type":"code",
   "source":[
    "Y_train = train_df.values\n",
    "I_train = train_df.reset_index()[names].values\n",
    "Y_train.shape, I_train.shape"
   ],
   "execution_count":11,
   "outputs":[
    {
     "data":{
      "text\/plain":[
       "((6480, 1), (6480, 7))"
      ]
     },
     "metadata":{
      
     },
     "output_type":"display_data"
    }
   ],
   "metadata":{
    "datalore":{
     "type":"CODE",
     "hide_input_from_viewers":false,
     "hide_output_from_viewers":false,
     "node_id":"9bCORHtkly29UgSLHpBogr"
    }
   }
  },
  {
   "cell_type":"code",
   "source":[
    "r = 4\n",
    "Y_0 = teneva.rand(vols.shape, r, np.random.default_rng(12345).random)\n",
    "nswp = 5\n",
    "\n",
    "Y_new = teneva.als(I_train, Y_train, Y_0, nswp)\n",
    "get = teneva.getter(Y_new)\n",
    "Y_train_pred = np.array([get(i) for i in I_train])\n",
    "# train_error = np.linalg.norm(Y_train_pred - Y_train)\n",
    "# train_error \/= np.linalg.norm(Y_train)\n",
    "# print(f\"train error {train_error:.4f}\")"
   ],
   "execution_count":12,
   "outputs":[
    
   ],
   "metadata":{
    "datalore":{
     "type":"CODE",
     "hide_input_from_viewers":false,
     "hide_output_from_viewers":false,
     "node_id":"9jzSDfvbhZiZv3PdzV5F6l"
    }
   }
  },
  {
   "cell_type":"code",
   "source":[
    "Y_test = missing_df.values\n",
    "I_test = missing_df.reset_index()[names].values\n",
    "Y_test.shape, I_test.shape "
   ],
   "execution_count":13,
   "outputs":[
    {
     "data":{
      "text\/plain":[
       "((58320, 1), (58320, 7))"
      ]
     },
     "metadata":{
      
     },
     "output_type":"display_data"
    }
   ],
   "metadata":{
    "datalore":{
     "type":"CODE",
     "hide_input_from_viewers":false,
     "hide_output_from_viewers":false,
     "node_id":"Yg22dqlrUrwTZUg4Va8RA7"
    }
   }
  },
  {
   "cell_type":"code",
   "source":[
    "Y_test_pred = np.array([get(i) for i in I_test])\n",
    "# test_error = np.linalg.norm(Y_test_pred - Y_test)\n",
    "# test_error \/= np.linalg.norm(Y_test)\n",
    "# print(f\"test error {test_error:.4f}\")"
   ],
   "execution_count":14,
   "outputs":[
    
   ],
   "metadata":{
    "datalore":{
     "type":"CODE",
     "hide_input_from_viewers":false,
     "hide_output_from_viewers":false,
     "node_id":"iddeauTM7f7A3CGR9Vtfez"
    }
   }
  },
  {
   "cell_type":"code",
   "source":[
    "print(r2_score(Y_train.reshape(-1,1), Y_train_pred))\n",
    "print(r2_score(Y_test.reshape(-1,1), Y_test_pred))"
   ],
   "execution_count":16,
   "outputs":[
    {
     "name":"stdout",
     "text":[
      "0.9999998452316975\n",
      "0.9999993875609762\n"
     ],
     "output_type":"stream"
    }
   ],
   "metadata":{
    "datalore":{
     "type":"CODE",
     "hide_input_from_viewers":false,
     "hide_output_from_viewers":false,
     "node_id":"x9AQ99dxoTxvnPyWil3itn"
    }
   }
  },
  {
   "cell_type":"code",
   "source":[
    "print(MAE(Y_train.reshape(-1,1), Y_train_pred))\n",
    "print(MAE(Y_test.reshape(-1,1), Y_test_pred))"
   ],
   "execution_count":17,
   "outputs":[
    {
     "name":"stdout",
     "text":[
      "6.976420242861728e-05\n",
      "9.53404681102971e-05\n"
     ],
     "output_type":"stream"
    }
   ],
   "metadata":{
    "datalore":{
     "type":"CODE",
     "hide_input_from_viewers":false,
     "hide_output_from_viewers":false,
     "node_id":"6WkTky1v3C9xE8mGRTk59D"
    }
   }
  },
  {
   "cell_type":"code",
   "source":[
    "print(Y_test.reshape(-1).shape)\n",
    "print(Y_test_pred.shape)"
   ],
   "execution_count":18,
   "outputs":[
    {
     "name":"stdout",
     "text":[
      "(58320,)\n",
      "(58320,)\n"
     ],
     "output_type":"stream"
    }
   ],
   "metadata":{
    "datalore":{
     "type":"CODE",
     "hide_input_from_viewers":false,
     "hide_output_from_viewers":false,
     "node_id":"urr6KNxOo0xvuoAktGE6p0"
    }
   }
  },
  {
   "cell_type":"code",
   "source":[
    "print(np.max(np.abs(Y_test.reshape(-1) - Y_test_pred)))\n",
    "\n",
    "print(np.argmax(np.abs(Y_test.reshape(-1)[:1000] - Y_test_pred[:1000])))\n",
    "# np.abs(Y_test.reshape(-1,1)[:1000] - Y_test_pred[:1000])[690666]\n",
    "# missing_df.iloc[690666]"
   ],
   "execution_count":19,
   "outputs":[
    {
     "name":"stdout",
     "text":[
      "0.009938532788126508\n",
      "598\n"
     ],
     "output_type":"stream"
    }
   ],
   "metadata":{
    "datalore":{
     "type":"CODE",
     "hide_input_from_viewers":false,
     "hide_output_from_viewers":false,
     "node_id":"8MZV7m6LkMdN1whHhFfktN"
    }
   }
  },
  {
   "cell_type":"code",
   "source":[
    "print(MAPE(Y_train.reshape(-1,1), Y_train_pred))\n",
    "print(MAPE(Y_test.reshape(-1,1), Y_test_pred))"
   ],
   "execution_count":20,
   "outputs":[
    {
     "name":"stdout",
     "text":[
      "0.0008614707843976386\n",
      "0.0008995659808580757\n"
     ],
     "output_type":"stream"
    }
   ],
   "metadata":{
    "datalore":{
     "type":"CODE",
     "hide_input_from_viewers":false,
     "hide_output_from_viewers":false,
     "node_id":"ny0zWJ920QonEUynRNZRml"
    }
   }
  },
  {
   "cell_type":"code",
   "source":[
    
   ],
   "execution_count":0,
   "outputs":[
    
   ],
   "metadata":{
    "datalore":{
     "type":"CODE",
     "hide_input_from_viewers":false,
     "hide_output_from_viewers":false,
     "node_id":"OY3PxloFuL4Og4fHCPR7bm"
    }
   }
  }
 ],
 "metadata":{
  "datalore":{
   "version":1,
   "computation_mode":"JUPYTER",
   "package_manager":"pip",
   "base_environment":"default",
   "packages":[
    
   ]
  }
 },
 "nbformat":4,
 "nbformat_minor":4
}