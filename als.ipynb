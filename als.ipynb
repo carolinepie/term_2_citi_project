{
 "cells": [
  {
   "cell_type": "code",
   "execution_count": 11,
   "id": "ff454a9c-291c-487d-8f4f-5b21a2090f3d",
   "metadata": {},
   "outputs": [],
   "source": [
    "import numpy as np\n",
    "import pandas as pd\n",
    "import teneva"
   ]
  },
  {
   "cell_type": "code",
   "execution_count": 12,
   "id": "25c6249f-487e-4644-8a50-85c63b80d423",
   "metadata": {},
   "outputs": [],
   "source": [
    "data_path = \"data/\""
   ]
  },
  {
   "cell_type": "code",
   "execution_count": 13,
   "id": "389691c1-a6d6-4904-87a2-e0d421a2cb19",
   "metadata": {},
   "outputs": [
    {
     "data": {
      "text/plain": [
       "(3, 3, 3, 3, 3, 3, 5, 3)"
      ]
     },
     "execution_count": 13,
     "metadata": {},
     "output_type": "execute_result"
    }
   ],
   "source": [
    "vols = np.load(data_path + \"sample_lognormal_vol.npy\")\n",
    "vols.shape # S, T, V_atm, Beta, Rho, Volvol, Displacement, K"
   ]
  },
  {
   "cell_type": "code",
   "execution_count": 42,
   "id": "b6be09c2-59f1-439b-af0c-998bb8040685",
   "metadata": {},
   "outputs": [
    {
     "data": {
      "text/html": [
       "<div>\n",
       "<style scoped>\n",
       "    .dataframe tbody tr th:only-of-type {\n",
       "        vertical-align: middle;\n",
       "    }\n",
       "\n",
       "    .dataframe tbody tr th {\n",
       "        vertical-align: top;\n",
       "    }\n",
       "\n",
       "    .dataframe thead th {\n",
       "        text-align: right;\n",
       "    }\n",
       "</style>\n",
       "<table border=\"1\" class=\"dataframe\">\n",
       "  <thead>\n",
       "    <tr style=\"text-align: right;\">\n",
       "      <th></th>\n",
       "      <th></th>\n",
       "      <th></th>\n",
       "      <th></th>\n",
       "      <th></th>\n",
       "      <th></th>\n",
       "      <th></th>\n",
       "      <th></th>\n",
       "      <th>Lognormal_vol</th>\n",
       "    </tr>\n",
       "    <tr>\n",
       "      <th>S</th>\n",
       "      <th>T</th>\n",
       "      <th>V_atm</th>\n",
       "      <th>Beta</th>\n",
       "      <th>Rho</th>\n",
       "      <th>Volvol</th>\n",
       "      <th>Displacement</th>\n",
       "      <th>K</th>\n",
       "      <th></th>\n",
       "    </tr>\n",
       "  </thead>\n",
       "  <tbody>\n",
       "    <tr>\n",
       "      <th rowspan=\"5\" valign=\"top\">0</th>\n",
       "      <th rowspan=\"5\" valign=\"top\">0</th>\n",
       "      <th rowspan=\"5\" valign=\"top\">0</th>\n",
       "      <th rowspan=\"5\" valign=\"top\">0</th>\n",
       "      <th rowspan=\"5\" valign=\"top\">0</th>\n",
       "      <th rowspan=\"5\" valign=\"top\">0</th>\n",
       "      <th rowspan=\"3\" valign=\"top\">0</th>\n",
       "      <th>0</th>\n",
       "      <td>20.000000</td>\n",
       "    </tr>\n",
       "    <tr>\n",
       "      <th>1</th>\n",
       "      <td>3.737664</td>\n",
       "    </tr>\n",
       "    <tr>\n",
       "      <th>2</th>\n",
       "      <td>2.384315</td>\n",
       "    </tr>\n",
       "    <tr>\n",
       "      <th rowspan=\"2\" valign=\"top\">1</th>\n",
       "      <th>0</th>\n",
       "      <td>14.995626</td>\n",
       "    </tr>\n",
       "    <tr>\n",
       "      <th>1</th>\n",
       "      <td>5.283900</td>\n",
       "    </tr>\n",
       "  </tbody>\n",
       "</table>\n",
       "</div>"
      ],
      "text/plain": [
       "                                          Lognormal_vol\n",
       "S T V_atm Beta Rho Volvol Displacement K               \n",
       "0 0 0     0    0   0      0            0      20.000000\n",
       "                                       1       3.737664\n",
       "                                       2       2.384315\n",
       "                          1            0      14.995626\n",
       "                                       1       5.283900"
      ]
     },
     "execution_count": 42,
     "metadata": {},
     "output_type": "execute_result"
    }
   ],
   "source": [
    "names = [\"S\", \"T\", \"V_atm\", \"Beta\", \"Rho\", \"Volvol\", \"Displacement\", \"K\"]\n",
    "multiindex = pd.MultiIndex.from_product([range(i) for i in vols.shape],\n",
    "                                        names=names\n",
    "                                       )\n",
    "full_df = pd.DataFrame(vols.reshape((-1,1)), index=multiindex, columns=[\"Lognormal_vol\"])\n",
    "full_df.head()"
   ]
  },
  {
   "cell_type": "code",
   "execution_count": 52,
   "id": "8fb49f17-ea44-4420-92ea-f4f011becc36",
   "metadata": {},
   "outputs": [
    {
     "data": {
      "text/plain": [
       "(8.096674598403172, 8.096674598403172)"
      ]
     },
     "execution_count": 52,
     "metadata": {},
     "output_type": "execute_result"
    }
   ],
   "source": [
    "# verification\n",
    "vols[0,0,1,0,0,0,0,2], full_df.loc[0,0,1,0,0,0,0,2].values.item()"
   ]
  },
  {
   "cell_type": "code",
   "execution_count": 73,
   "id": "334e5fb8-1424-42de-a73e-756b81b7f084",
   "metadata": {},
   "outputs": [
    {
     "data": {
      "text/plain": [
       "(3280, 1)"
      ]
     },
     "execution_count": 73,
     "metadata": {},
     "output_type": "execute_result"
    }
   ],
   "source": [
    "missing_df = full_df.sample(frac=0.3, replace=False, random_state=1)\n",
    "missing_df.shape"
   ]
  },
  {
   "cell_type": "code",
   "execution_count": 72,
   "id": "a989772e-bc54-4ac5-9e21-f92e7b867667",
   "metadata": {},
   "outputs": [
    {
     "data": {
      "text/plain": [
       "(7655, 1)"
      ]
     },
     "execution_count": 72,
     "metadata": {},
     "output_type": "execute_result"
    }
   ],
   "source": [
    "train_df = full_df.drop(missing_df.index)\n",
    "train_df.shape"
   ]
  },
  {
   "cell_type": "code",
   "execution_count": 74,
   "id": "c25f1ae0-59ec-44cc-8d14-42d6601d9dda",
   "metadata": {},
   "outputs": [
    {
     "data": {
      "text/plain": [
       "True"
      ]
     },
     "execution_count": 74,
     "metadata": {},
     "output_type": "execute_result"
    }
   ],
   "source": [
    "missing_df.shape[0] + train_df.shape[0] == full_df.shape[0]"
   ]
  },
  {
   "cell_type": "code",
   "execution_count": 76,
   "id": "d131ad2c-9d35-4f5a-9686-89379b8d21b1",
   "metadata": {},
   "outputs": [
    {
     "data": {
      "text/plain": [
       "((7655, 1), (7655, 8))"
      ]
     },
     "execution_count": 76,
     "metadata": {},
     "output_type": "execute_result"
    }
   ],
   "source": [
    "Y_train = train_df.values\n",
    "I_train = train_df.reset_index()[names].values\n",
    "Y_train.shape, I_train.shape"
   ]
  },
  {
   "cell_type": "code",
   "execution_count": 77,
   "id": "d7ffc0f1-6b54-47bc-9c28-7e05e92a47b4",
   "metadata": {},
   "outputs": [
    {
     "name": "stdout",
     "output_type": "stream",
     "text": [
      "train error 116.1695\n"
     ]
    }
   ],
   "source": [
    "r = 4\n",
    "Y_0 = teneva.rand(vols.shape, r)\n",
    "nswp=5\n",
    "\n",
    "Y_new = teneva.als(I_train, Y_train, Y_0, nswp)\n",
    "get = teneva.getter(Y_new)\n",
    "Y_train_pred = np.array([get(i) for i in I_train])\n",
    "train_error = np.linalg.norm(Y_train_pred - Y_train)\n",
    "train_error /= np.linalg.norm(Y_train)\n",
    "print(f\"train error {train_error:.4f}\")"
   ]
  },
  {
   "cell_type": "code",
   "execution_count": 78,
   "id": "cfa98a88-2054-4a96-b5e3-32a91feeb100",
   "metadata": {},
   "outputs": [
    {
     "data": {
      "text/plain": [
       "((3280, 1), (3280, 8))"
      ]
     },
     "execution_count": 78,
     "metadata": {},
     "output_type": "execute_result"
    }
   ],
   "source": [
    "Y_test = missing_df.values\n",
    "I_test = missing_df.reset_index()[names].values\n",
    "Y_test.shape, I_test.shape "
   ]
  },
  {
   "cell_type": "code",
   "execution_count": null,
   "id": "45fc8499-4544-42bc-bd88-135848954c34",
   "metadata": {},
   "outputs": [],
   "source": [
    "Y_test_pred = np.array([get(i) for i in I_test])\n",
    "train_error = np.linalg.norm(Y_train_pred - Y_train)\n",
    "train_error /= np.linalg.norm(Y_train)\n",
    "print(f\"train error {train_error:.4f}\")"
   ]
  }
 ],
 "metadata": {
  "kernelspec": {
   "display_name": "Python 3",
   "language": "python",
   "name": "python3"
  },
  "language_info": {
   "codemirror_mode": {
    "name": "ipython",
    "version": 3
   },
   "file_extension": ".py",
   "mimetype": "text/x-python",
   "name": "python",
   "nbconvert_exporter": "python",
   "pygments_lexer": "ipython3",
   "version": "3.7.3"
  }
 },
 "nbformat": 4,
 "nbformat_minor": 5
}
