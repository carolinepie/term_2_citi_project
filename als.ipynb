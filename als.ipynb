{
 "cells": [
  {
   "cell_type": "code",
   "execution_count": 1,
   "id": "ff454a9c-291c-487d-8f4f-5b21a2090f3d",
   "metadata": {},
   "outputs": [],
   "source": [
    "import numpy as np\n",
    "import teneva"
   ]
  },
  {
   "cell_type": "code",
   "execution_count": 2,
   "id": "25c6249f-487e-4644-8a50-85c63b80d423",
   "metadata": {},
   "outputs": [],
   "source": [
    "data_path = \"data/\""
   ]
  },
  {
   "cell_type": "code",
   "execution_count": 3,
   "id": "389691c1-a6d6-4904-87a2-e0d421a2cb19",
   "metadata": {},
   "outputs": [
    {
     "data": {
      "text/plain": [
       "(3, 3, 3, 3, 3, 3, 5, 3)"
      ]
     },
     "execution_count": 3,
     "metadata": {},
     "output_type": "execute_result"
    }
   ],
   "source": [
    "vols = np.load(data_path + \"sample_lognormal_vol.npy\")\n",
    "vols.shape # S, T, V_atm, Beta, Rho, Volvol, Displacement, K"
   ]
  },
  {
   "cell_type": "code",
   "execution_count": null,
   "id": "e8ecff0c-3ece-42e2-ad96-cab93ff6287a",
   "metadata": {},
   "outputs": [],
   "source": []
  }
 ],
 "metadata": {
  "kernelspec": {
   "display_name": "Python 3",
   "language": "python",
   "name": "python3"
  },
  "language_info": {
   "codemirror_mode": {
    "name": "ipython",
    "version": 3
   },
   "file_extension": ".py",
   "mimetype": "text/x-python",
   "name": "python",
   "nbconvert_exporter": "python",
   "pygments_lexer": "ipython3",
   "version": "3.7.3"
  }
 },
 "nbformat": 4,
 "nbformat_minor": 5
}
