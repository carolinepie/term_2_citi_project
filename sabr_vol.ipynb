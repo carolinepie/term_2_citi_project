{
 "cells": [
  {
   "cell_type": "code",
   "execution_count": 1,
   "id": "c4367f78",
   "metadata": {},
   "outputs": [],
   "source": [
    "import teneva\n",
    "import pysabr\n",
    "import numpy as np\n",
    "import time"
   ]
  },
  {
   "cell_type": "code",
   "execution_count": 2,
   "id": "e785a2ea",
   "metadata": {},
   "outputs": [],
   "source": [
    "Ss = np.linspace(0.005, 0.07, num=3)\n",
    "Ks = np.linspace(0.005, 0.07, num=3)\n",
    "Ts = np.linspace(0.5, 20., num=3)\n",
    "V_atms = np.linspace(0.1, 1.5, num=3)\n",
    "betas = np.linspace(0.1, 0.7, num=3)\n",
    "rhos = np.linspace(-0.4, 0.4, num=3)\n",
    "volvols = np.linspace(0.0001, 2.0, num=3)\n",
    "displacements = np.linspace(0.0, 0.03, num=5)"
   ]
  },
  {
   "cell_type": "code",
   "execution_count": 3,
   "id": "56c3470d",
   "metadata": {},
   "outputs": [
    {
     "name": "stdout",
     "output_type": "stream",
     "text": [
      "compute vols time: 56.138434171676636\n"
     ]
    }
   ],
   "source": [
    "start = time.time()\n",
    "sabr_processes = [pysabr.Hagan2002LognormalSABR(S, d, T, V_atm, beta, rho, volvol) \\\n",
    "                  for S in Ss \\\n",
    "                  for T in Ts \\\n",
    "                  for V_atm in V_atms \\\n",
    "                  for beta in betas \\\n",
    "                  for rho in rhos \\\n",
    "                  for volvol in volvols \\\n",
    "                  for d in displacements\n",
    "                 ]\n",
    "\n",
    "vols = np.reshape([sabr.lognormal_vol(k) for sabr in sabr_processes for k in Ks], \\\n",
    "                   (Ss.shape[0], Ts.shape[0], V_atms.shape[0], betas.shape[0], rhos.shape[0], \\\n",
    "                    volvols.shape[0], displacements.shape[0], Ks.shape[0])\\\n",
    "                 )\n",
    "\n",
    "end = time.time()\n",
    "print(f'compute vols time: {end - start}')\n",
    "\n",
    "# res = np.zeros((Ss.shape[0],\\\n",
    "#                 Ts.shape[0],\\\n",
    "#                 V_atms.shape[0],\\\n",
    "#                 betas.shape[0],\\\n",
    "#                 rhos.shape[0],\\\n",
    "#                 volvols.shape[0],\\\n",
    "#                 displacements.shape[0],\\\n",
    "#                 Ks.shape[0]))\n",
    "\n",
    "# for S in Ss.shape[0]:\n",
    "#     for T in Ts.shape[0]:\n",
    "#         for V_atm in V_atms.shape[0]:\n",
    "#             for beta in betas.shape[0]:\n",
    "#                 for rho in rhos.shape[0]:\n",
    "#                     for volvol in volvols.shape[0]:\n",
    "#                         for d in displacements.shape[0]:\n",
    "#                             sabr_ln = Hagan2002LognormalSABR(S, d, T, V_atm, beta, rho, volvol)\n",
    "#                             res[S, T, V_atm, beta, rho, volvol, displacement] = [sabr_ln.lognormal_vol(k/100) for k in strikes]"
   ]
  },
  {
   "cell_type": "code",
   "execution_count": 4,
   "id": "3c078e3d",
   "metadata": {},
   "outputs": [
    {
     "name": "stdout",
     "output_type": "stream",
     "text": [
      "(3, 3, 3, 3, 3, 3, 5, 3)\n"
     ]
    }
   ],
   "source": [
    "print(vols.shape)"
   ]
  },
  {
   "cell_type": "code",
   "execution_count": 5,
   "id": "fcad663f",
   "metadata": {},
   "outputs": [],
   "source": [
    "data_path = \"data/\""
   ]
  },
  {
   "cell_type": "code",
   "execution_count": 6,
   "id": "a77b0308-0878-4783-a4eb-b28fe229e8ba",
   "metadata": {},
   "outputs": [],
   "source": [
    "np.save(data_path + \"sample_lognormal_vol.npy\", vols)"
   ]
  }
 ],
 "metadata": {
  "kernelspec": {
   "display_name": "Python 3",
   "language": "python",
   "name": "python3"
  },
  "language_info": {
   "codemirror_mode": {
    "name": "ipython",
    "version": 3
   },
   "file_extension": ".py",
   "mimetype": "text/x-python",
   "name": "python",
   "nbconvert_exporter": "python",
   "pygments_lexer": "ipython3",
   "version": "3.7.3"
  }
 },
 "nbformat": 4,
 "nbformat_minor": 5
}
