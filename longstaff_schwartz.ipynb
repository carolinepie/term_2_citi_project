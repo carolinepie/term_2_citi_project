{
 "cells": [
  {
   "cell_type": "code",
   "execution_count": 74,
   "id": "850d9031",
   "metadata": {},
   "outputs": [],
   "source": [
    "import numpy as np\n",
    "import jax\n",
    "import jax.numpy as jnp\n",
    "import scipy.stats as ss\n",
    "import tensorly as tl\n",
    "from tensorly.regression.tucker_regression import TuckerRegressor\n",
    "from jax import grad\n",
    "from references.SABR_Free import sabrMC\n",
    "\n",
    "try:\n",
    "    tl.set_backend('jax')\n",
    "except:\n",
    "    pass\n",
    "tl.set_backend('jax')\n",
    "\n",
    "# import matplotlib.pyplot as plt\n",
    "# %matplotlib inline\n",
    "# from IPython.display import display\n",
    "# import sympy; sympy.init_printing()\n",
    "\n",
    "# def display_matrix(m):\n",
    "#     display(sympy.Matrix(m))"
   ]
  },
  {
   "cell_type": "code",
   "execution_count": 62,
   "id": "322ab6b5",
   "metadata": {},
   "outputs": [],
   "source": [
    "sample=''\n",
    "sample = np.genfromtxt('references/sample.csv', delimiter=',')"
   ]
  },
  {
   "cell_type": "code",
   "execution_count": 34,
   "id": "9d5c8ee7",
   "metadata": {},
   "outputs": [
    {
     "name": "stdout",
     "output_type": "stream",
     "text": [
      "(100, 10000)\n",
      "0.001832487937137861\n",
      "0.011829146522039147\n"
     ]
    }
   ],
   "source": [
    "# check distribution\n",
    "print(sample.shape) # paths, time\n",
    "# print(S[:,-1][:5])\n",
    "\n",
    "# print(np.mean(sample.T[:,-1]))\n",
    "# print(np.std(sample.T[:,-1]))\n",
    "\n",
    "print(np.mean(sample.T[:,-1]) * 1.05 - 1.05)\n",
    "print(np.std(sample.T[:,-1]) * (1.05**2) - 0.26667)\n",
    "\n",
    "# 1.05\n",
    "# 0.2667; =sqrt(1.05^2(e^(0.25^2*1)-1))"
   ]
  },
  {
   "cell_type": "code",
   "execution_count": 77,
   "id": "e53f443e",
   "metadata": {},
   "outputs": [
    {
     "name": "stdout",
     "output_type": "stream",
     "text": [
      "<class 'numpy.ndarray'>\n",
      "Example price=  0.07357290525046334\n"
     ]
    }
   ],
   "source": [
    "def put_price(r=0.05, paths = 10000, steps=100, K=1.0, maturity = 1.0, data=None, seed=1):\n",
    "\n",
    "    if data is not None:\n",
    "        S=data * (1+r)\n",
    "        print(type(S))\n",
    "    else:\n",
    "        np.random.seed(seed)\n",
    "        S = sabrMC(F0 = 1+r, N=paths, T=steps, n_years=1).T\n",
    "        \n",
    "    dt = maturity/(steps-1)         # time interval\n",
    "    df = jnp.exp(-r * dt)           # discount factor per time interval\n",
    "    \n",
    "    H = jnp.maximum(K - S, 0)           # intrinsic values for put option\n",
    "    V = jnp.zeros(H.shape)               # value matrix\n",
    "    V = V.at[:,-1].set(H[:,-1]) \n",
    "\n",
    "    # Valuation by LS Method\n",
    "    for t in range(steps-2, 0, -1):\n",
    "\n",
    "        good_paths = np.array(H[:,t] > 0)        # paths where the intrinsic value is positive \n",
    "                                                 # the regression is performed only on these paths \n",
    "\n",
    "        # Valuation by Tucker Regression\n",
    "        X = S[good_paths, t].reshape((-1,1,1)) # reshape to fill up dimensions\n",
    "        y = V[good_paths, t+1] * df\n",
    "        estimator = TuckerRegressor(weight_ranks=[1]*X.ndim, verbose=False, random_state=seed) # hyperparameter: reg_W (default: 1) \n",
    "        estimator.fit(X, y)\n",
    "        fitted_values = estimator.predict(X) # predicted value of option (discounted, as `y` is discounted)\n",
    "\n",
    "        exercise = jnp.zeros(len(good_paths)).astype(bool) # initialize\n",
    "        # early exercise when value of early exericse at t > predicted value at t+1 (discounted to t)\n",
    "        exerise = exercise.at[good_paths].set(H[good_paths,t] > fitted_values)\n",
    "\n",
    "        V = V.at[exercise,t].set(H[exercise,t]) # set V equal to H where it is optimal to exercise \n",
    "        V = V.at[exercise,t+1:].set(0) # set future cash flows, for that path, equal to zero  \n",
    "        discount_path = V[:,t] == 0 # paths where we didn't exercise\n",
    "        V = V.at[discount_path,t].set(V[discount_path,t+1] * df) # set V[t] in continuation region\n",
    "\n",
    "    V0 = jnp.mean(V[:,1]) * df  # discounted expectation of V[t=1]\n",
    "    return V0\n",
    "\n",
    "print(\"Example price= \", put_price(data=sample.T)) # should be 0.0797"
   ]
  },
  {
   "cell_type": "code",
   "execution_count": 79,
   "id": "a9961f6d",
   "metadata": {},
   "outputs": [
    {
     "name": "stdout",
     "output_type": "stream",
     "text": [
      "delta:\n",
      "<class 'jax.interpreters.ad.JVPTracer'>\n",
      "-0.42005136633138007\n",
      "gamma:\n",
      "<class 'jax.interpreters.ad.JVPTracer'>\n",
      "0.7665298274122965\n"
     ]
    }
   ],
   "source": [
    "print('delta:')\n",
    "delta = grad(put_price, argnums=0)\n",
    "print(delta(0.05, paths = 100, steps=100, K=1.0, maturity = 1.0, data=sample.T))\n",
    "print('gamma:')\n",
    "print(grad(delta)(0.05, paths = 100, steps=100, K=1.0, maturity = 1.0, data=sample.T))\n",
    "\n"
   ]
  }
 ],
 "metadata": {
  "kernelspec": {
   "display_name": "Python 3 (ipykernel)",
   "language": "python",
   "name": "python3"
  },
  "language_info": {
   "codemirror_mode": {
    "name": "ipython",
    "version": 3
   },
   "file_extension": ".py",
   "mimetype": "text/x-python",
   "name": "python",
   "nbconvert_exporter": "python",
   "pygments_lexer": "ipython3",
   "version": "3.8.9"
  }
 },
 "nbformat": 4,
 "nbformat_minor": 5
}
