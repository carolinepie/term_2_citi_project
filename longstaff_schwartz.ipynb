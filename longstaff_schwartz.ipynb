{
 "cells": [
  {
   "cell_type": "code",
   "execution_count": 24,
   "id": "850d9031",
   "metadata": {},
   "outputs": [],
   "source": [
    "import numpy as np\n",
    "import jax\n",
    "import jax.numpy as jnp\n",
    "import scipy.stats as ss\n",
    "import tensorly as tl\n",
    "tl.set_backend('jax')\n",
    "# import matplotlib.pyplot as plt\n",
    "# %matplotlib inline\n",
    "# from IPython.display import display\n",
    "# import sympy; sympy.init_printing()\n",
    "\n",
    "# def display_matrix(m):\n",
    "#     display(sympy.Matrix(m))"
   ]
  },
  {
   "cell_type": "code",
   "execution_count": 40,
   "id": "322ab6b5",
   "metadata": {},
   "outputs": [],
   "source": [
    "sample = np.genfromtxt('references/sample.csv', delimiter=',')"
   ]
  },
  {
   "cell_type": "code",
   "execution_count": 46,
   "id": "5d0b29a1",
   "metadata": {},
   "outputs": [
    {
     "name": "stdout",
     "output_type": "stream",
     "text": [
      "[[1.05       1.04856412 1.01787965]\n",
      " [1.05       1.02942462 1.00856132]\n",
      " [1.05       1.12692091 1.11423357]]\n"
     ]
    }
   ],
   "source": [
    "S = jnp.transpose(sample)\n",
    "print(S[:3,:3])"
   ]
  },
  {
   "cell_type": "code",
   "execution_count": 47,
   "id": "9d5c8ee7",
   "metadata": {},
   "outputs": [
    {
     "name": "stdout",
     "output_type": "stream",
     "text": [
      "(100, 10000)\n",
      "1.0518324048639505\n",
      "0.07034371653276578\n"
     ]
    }
   ],
   "source": [
    "# check distribution\n",
    "print(sample.shape)\n",
    "# print(S[:,-1][:5])\n",
    "\n",
    "print(np.mean(S[:,-1]))\n",
    "print(np.var(S[:,-1]))\n",
    "\n",
    "# 1.05"
   ]
  },
  {
   "cell_type": "code",
   "execution_count": 51,
   "id": "f6f5545e",
   "metadata": {},
   "outputs": [],
   "source": [
    "N = S.shape[0]          # number of time steps\n",
    "r = 0.05       # interest rate\n",
    "K = 1          # strike \n",
    "T = 1          # Maturity\n",
    "\n",
    "dt = T/(N-1)          # time interval\n",
    "df = jnp.exp(-r * dt)  # discount factor per time interval"
   ]
  },
  {
   "cell_type": "code",
   "execution_count": 52,
   "id": "e53f443e",
   "metadata": {},
   "outputs": [
    {
     "ename": "IndexError",
     "evalue": "index 9998 is out of bounds for axis 1 with size 100",
     "output_type": "error",
     "traceback": [
      "\u001b[0;31m---------------------------------------------------------------------------\u001b[0m",
      "\u001b[0;31mIndexError\u001b[0m                                Traceback (most recent call last)",
      "Input \u001b[0;32mIn [52]\u001b[0m, in \u001b[0;36m<cell line: 7>\u001b[0;34m()\u001b[0m\n\u001b[1;32m      6\u001b[0m \u001b[38;5;66;03m# Valuation by LS Method\u001b[39;00m\n\u001b[1;32m      7\u001b[0m \u001b[38;5;28;01mfor\u001b[39;00m t \u001b[38;5;129;01min\u001b[39;00m \u001b[38;5;28mrange\u001b[39m(N\u001b[38;5;241m-\u001b[39m\u001b[38;5;241m2\u001b[39m, \u001b[38;5;241m0\u001b[39m, \u001b[38;5;241m-\u001b[39m\u001b[38;5;241m1\u001b[39m):\n\u001b[0;32m----> 9\u001b[0m     good_paths \u001b[38;5;241m=\u001b[39m \u001b[43mH\u001b[49m\u001b[43m[\u001b[49m\u001b[43m:\u001b[49m\u001b[43m,\u001b[49m\u001b[43mt\u001b[49m\u001b[43m]\u001b[49m \u001b[38;5;241m>\u001b[39m \u001b[38;5;241m0\u001b[39m        \u001b[38;5;66;03m# paths where the intrinsic value is positive \u001b[39;00m\n\u001b[1;32m     10\u001b[0m                                    \u001b[38;5;66;03m# the regression is performed only on these paths \u001b[39;00m\n\u001b[1;32m     12\u001b[0m     rg \u001b[38;5;241m=\u001b[39m jnp\u001b[38;5;241m.\u001b[39mpolyfit( S[good_paths, t], V[good_paths, t\u001b[38;5;241m+\u001b[39m\u001b[38;5;241m1\u001b[39m] \u001b[38;5;241m*\u001b[39m df, \u001b[38;5;241m2\u001b[39m)    \u001b[38;5;66;03m# polynomial regression\u001b[39;00m\n",
      "\u001b[0;31mIndexError\u001b[0m: index 9998 is out of bounds for axis 1 with size 100"
     ]
    }
   ],
   "source": [
    "H = np.maximum(K - S, 0)           # intrinsic values for put option\n",
    "\n",
    "V = np.zeros_like(H)               # value matrix\n",
    "V[:,-1] = H[:,-1]\n",
    "\n",
    "# Valuation by LS Method\n",
    "for t in range(N-2, 0, -1):\n",
    "\n",
    "    good_paths = H[:,t] > 0        # paths where the intrinsic value is positive \n",
    "                                   # the regression is performed only on these paths \n",
    "    \n",
    "    rg = jnp.polyfit( S[good_paths, t], V[good_paths, t+1] * df, 2)    # polynomial regression\n",
    "    C = jnp.polyval( rg, S[good_paths,t] )                             # evaluation of regression  \n",
    "    \n",
    "    exercise = np.zeros( len(good_paths), dtype=bool)    # initialize\n",
    "    exercise[good_paths] = H[good_paths,t] > C           # paths where it is optimal to exercise\n",
    "    \n",
    "    V[exercise,t] = H[exercise,t]                        # set V equal to H where it is optimal to exercise \n",
    "    V[exercise,t+1:] = 0                                 # set future cash flows, for that path, equal to zero  \n",
    "    discount_path = (V[:,t] == 0)                        # paths where we didn't exercise \n",
    "    V[discount_path,t] = V[discount_path,t+1] * df       # set V[t] in continuation region\n",
    "    \n",
    "V0 = jnp.mean(V[:,1]) * df  # discounted expectation of V[t=1]\n",
    "print(\"Example price= \", V0)"
   ]
  },
  {
   "cell_type": "code",
   "execution_count": 30,
   "id": "e91b9a7c",
   "metadata": {},
   "outputs": [
    {
     "name": "stdout",
     "output_type": "stream",
     "text": [
      "[[0.   0.   0.   ... 0.   0.   0.  ]\n",
      " [0.   0.   0.   ... 0.41 0.44 0.43]\n",
      " [0.   0.   0.   ... 0.   0.   0.  ]\n",
      " ...\n",
      " [0.   0.   0.   ... 0.   0.   0.  ]\n",
      " [0.   0.   0.   ... 0.   0.   0.  ]\n",
      " [0.   0.   0.   ... 0.   0.   0.  ]]\n"
     ]
    }
   ],
   "source": [
    "print(H.round(2))"
   ]
  },
  {
   "cell_type": "code",
   "execution_count": 31,
   "id": "a9961f6d",
   "metadata": {},
   "outputs": [],
   "source": [
    "# 0.0797"
   ]
  }
 ],
 "metadata": {
  "kernelspec": {
   "display_name": "Python 3 (ipykernel)",
   "language": "python",
   "name": "python3"
  },
  "language_info": {
   "codemirror_mode": {
    "name": "ipython",
    "version": 3
   },
   "file_extension": ".py",
   "mimetype": "text/x-python",
   "name": "python",
   "nbconvert_exporter": "python",
   "pygments_lexer": "ipython3",
   "version": "3.8.9"
  }
 },
 "nbformat": 4,
 "nbformat_minor": 5
}
