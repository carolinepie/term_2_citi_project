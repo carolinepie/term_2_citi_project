{
 "cells": [
  {
   "cell_type": "code",
   "execution_count": 1,
   "id": "850d9031",
   "metadata": {},
   "outputs": [
    {
     "name": "stderr",
     "output_type": "stream",
     "text": [
      "/Users/carolinepei/Desktop/mfe/project/citi/term_2_citi_project/citi/lib/python3.8/site-packages/jax/_src/lib/__init__.py:33: UserWarning: JAX on Mac ARM machines is experimental and minimally tested. Please see https://github.com/google/jax/issues/5501 in the event of problems.\n",
      "  warnings.warn(\"JAX on Mac ARM machines is experimental and minimally tested. \"\n"
     ]
    },
    {
     "name": "stdout",
     "output_type": "stream",
     "text": [
      "\n"
     ]
    }
   ],
   "source": [
    "import numpy as np\n",
    "import jax\n",
    "import jax.numpy as jnp\n",
    "import scipy.stats as ss\n",
    "import tensorly as tl\n",
    "from jax import grad\n",
    "import math\n",
    "import numpy as np\n",
    "from scipy.stats import norm\n",
    "from scipy.special._ufuncs import gammainc\n",
    "from scipy.special._ufuncs import gamma\n",
    "from scipy.special._ufuncs import iv\n",
    "from scipy.stats import gaussian_kde\n",
    "from scipy.optimize import newton\n",
    "from scipy.optimize import minimize\n",
    "from scipy.stats import ncx2\n",
    "from references.SABR_Free import sabrMC\n",
    "\n",
    "try:\n",
    "    tl.set_backend('jax')\n",
    "except:\n",
    "    print('')\n",
    "tl.set_backend('jax')\n",
    "\n",
    "# import matplotlib.pyplot as plt\n",
    "# %matplotlib inline\n",
    "# from IPython.display import display\n",
    "# import sympy; sympy.init_printing()\n",
    "\n",
    "# def display_matrix(m):\n",
    "#     display(sympy.Matrix(m))"
   ]
  },
  {
   "cell_type": "code",
   "execution_count": 62,
   "id": "322ab6b5",
   "metadata": {},
   "outputs": [],
   "source": [
    "sample=''\n",
    "sample = np.genfromtxt('references/sample.csv', delimiter=',')"
   ]
  },
  {
   "cell_type": "code",
   "execution_count": 34,
   "id": "9d5c8ee7",
   "metadata": {},
   "outputs": [
    {
     "name": "stdout",
     "output_type": "stream",
     "text": [
      "(100, 10000)\n",
      "0.001832487937137861\n",
      "0.011829146522039147\n"
     ]
    }
   ],
   "source": [
    "# check distribution\n",
    "print(sample.shape) # paths, time\n",
    "# print(S[:,-1][:5])\n",
    "\n",
    "# print(np.mean(sample.T[:,-1]))\n",
    "# print(np.std(sample.T[:,-1]))\n",
    "\n",
    "print(np.mean(sample.T[:,-1]) * 1.05 - 1.05)\n",
    "print(np.std(sample.T[:,-1]) * (1.05**2) - 0.26667)\n",
    "\n",
    "# 1.05\n",
    "# 0.2667; =sqrt(1.05^2(e^(0.25^2*1)-1))"
   ]
  },
  {
   "cell_type": "code",
   "execution_count": 68,
   "id": "e53f443e",
   "metadata": {},
   "outputs": [
    {
     "name": "stdout",
     "output_type": "stream",
     "text": [
      "<class 'numpy.ndarray'>\n",
      "Example price=  0.07373775566973997\n"
     ]
    }
   ],
   "source": [
    "def put_price(r=0.05, paths = 10000, steps=100, K=1.0, maturity = 1.0, data=None):\n",
    "\n",
    "    if data is not None:\n",
    "        S=data * (1+r)\n",
    "        print(type(S))\n",
    "    else:\n",
    "        np.random.seed(1)\n",
    "        S = sabrMC(F0 = 1+r, N=paths, T=steps, n_years=1).T\n",
    "        \n",
    "    dt = maturity/(steps-1)         # time interval\n",
    "    df = jnp.exp(-r * dt)           # discount factor per time interval\n",
    "    \n",
    "    H = jnp.maximum(K - S, 0)           # intrinsic values for put option\n",
    "    H_np = np.\n",
    "    V_np = np.zeros(H.shape)               # value matrix\n",
    "    V_np[:,-1] = [i for i in H[:,-1]]\n",
    "\n",
    "    # Valuation by LS Method\n",
    "    for t in range(steps-2, 0, -1):\n",
    "\n",
    "        good_paths = np.array(H[:,t] > 0)        # paths where the intrinsic value is positive \n",
    "                                       # the regression is performed only on these paths \n",
    "\n",
    "        V = jnp.array(V_np)\n",
    "        rg = jnp.polyfit(S[good_paths, t], V[good_paths, t+1] * df, 2)    # polynomial regression\n",
    "        C = jnp.polyval(rg, S[good_paths,t] )                             # evaluation of regression  \n",
    "\n",
    "        exercise = np.zeros(len(good_paths), dtype=bool)           # initialize\n",
    "        exercise[good_paths] = np.array(H[good_paths,t] > C)  # paths where it is optimal to exercise\n",
    "\n",
    "        V_np[exercise,t] = np.array(H[exercise,t])              # set V equal to H where it is optimal to exercise \n",
    "        V_np[exercise,t+1:] = 0                                 # set future cash flows, for that path, equal to zero  \n",
    "        discount_path = (V_np[:,t] == 0)                        # paths where we didn't exercise \n",
    "        V_np[discount_path,t] = V_np[discount_path,t+1] * df       # set V[t] in continuation region\n",
    "\n",
    "    V0 = jnp.mean(V[:,1]) * df  # discounted expectation of V[t=1]\n",
    "    return V0\n",
    "\n",
    "print(\"Example price= \", put_price(data=sample.T)) # should be 0.0797"
   ]
  },
  {
   "cell_type": "code",
   "execution_count": 69,
   "id": "a9961f6d",
   "metadata": {},
   "outputs": [
    {
     "name": "stdout",
     "output_type": "stream",
     "text": [
      "<class 'jax.interpreters.ad.JVPTracer'>\n"
     ]
    },
    {
     "ename": "TracerArrayConversionError",
     "evalue": "The numpy.ndarray conversion method __array__() was called on the JAX Tracer object Traced<ConcreteArray(0.0, dtype=float64)>with<JVPTrace(level=2/0)> with\n  primal = DeviceArray(0., dtype=float64)\n  tangent = Traced<ShapedArray(float64[])>with<JaxprTrace(level=1/0)> with\n    pval = (ShapedArray(float64[]), *)\n    recipe = JaxprEqnRecipe(eqn_id=<object object at 0x136fe9990>, in_tracers=(Traced<ShapedArray(float64[1]):JaxprTrace(level=1/0)>,), out_tracer_refs=[<weakref at 0x2b2b6b590; to 'JaxprTracer' at 0x2b2b6bae0>], out_avals=[ShapedArray(float64[])], primitive=squeeze, params={'dimensions': (0,)}, effects=set(), source_info=SourceInfo(traceback=<jaxlib.xla_extension.Traceback object at 0x2b5aa01b0>, name_stack=NameStack(stack=(Transform(name='jvp'),))))\nSee https://jax.readthedocs.io/en/latest/errors.html#jax.errors.TracerArrayConversionError",
     "output_type": "error",
     "traceback": [
      "\u001b[0;31m---------------------------------------------------------------------------\u001b[0m",
      "\u001b[0;31mTracerArrayConversionError\u001b[0m                Traceback (most recent call last)",
      "Input \u001b[0;32mIn [69]\u001b[0m, in \u001b[0;36m<cell line: 1>\u001b[0;34m()\u001b[0m\n\u001b[0;32m----> 1\u001b[0m \u001b[38;5;28mprint\u001b[39m(\u001b[43mgrad\u001b[49m\u001b[43m(\u001b[49m\u001b[43mput_price\u001b[49m\u001b[43m,\u001b[49m\u001b[43m \u001b[49m\u001b[43margnums\u001b[49m\u001b[38;5;241;43m=\u001b[39;49m\u001b[38;5;241;43m0\u001b[39;49m\u001b[43m)\u001b[49m\u001b[43m(\u001b[49m\u001b[38;5;241;43m0.05\u001b[39;49m\u001b[43m,\u001b[49m\u001b[43m \u001b[49m\u001b[43mpaths\u001b[49m\u001b[43m \u001b[49m\u001b[38;5;241;43m=\u001b[39;49m\u001b[43m \u001b[49m\u001b[38;5;241;43m10000\u001b[39;49m\u001b[43m,\u001b[49m\u001b[43m \u001b[49m\u001b[43msteps\u001b[49m\u001b[38;5;241;43m=\u001b[39;49m\u001b[38;5;241;43m100\u001b[39;49m\u001b[43m,\u001b[49m\u001b[43m \u001b[49m\u001b[43mK\u001b[49m\u001b[38;5;241;43m=\u001b[39;49m\u001b[38;5;241;43m1.0\u001b[39;49m\u001b[43m,\u001b[49m\u001b[43m \u001b[49m\u001b[43mmaturity\u001b[49m\u001b[43m \u001b[49m\u001b[38;5;241;43m=\u001b[39;49m\u001b[43m \u001b[49m\u001b[38;5;241;43m1.0\u001b[39;49m\u001b[43m,\u001b[49m\u001b[43m \u001b[49m\u001b[43mdata\u001b[49m\u001b[38;5;241;43m=\u001b[39;49m\u001b[43msample\u001b[49m\u001b[38;5;241;43m.\u001b[39;49m\u001b[43mT\u001b[49m\u001b[43m)\u001b[49m)\n",
      "    \u001b[0;31m[... skipping hidden 10 frame]\u001b[0m\n",
      "Input \u001b[0;32mIn [68]\u001b[0m, in \u001b[0;36mput_price\u001b[0;34m(r, paths, steps, K, maturity, data)\u001b[0m\n\u001b[1;32m     13\u001b[0m H \u001b[38;5;241m=\u001b[39m jnp\u001b[38;5;241m.\u001b[39mmaximum(K \u001b[38;5;241m-\u001b[39m S, \u001b[38;5;241m0\u001b[39m)           \u001b[38;5;66;03m# intrinsic values for put option\u001b[39;00m\n\u001b[1;32m     15\u001b[0m V_np \u001b[38;5;241m=\u001b[39m np\u001b[38;5;241m.\u001b[39mzeros(H\u001b[38;5;241m.\u001b[39mshape)               \u001b[38;5;66;03m# value matrix\u001b[39;00m\n\u001b[0;32m---> 16\u001b[0m V_np[:,\u001b[38;5;241m-\u001b[39m\u001b[38;5;241m1\u001b[39m] \u001b[38;5;241m=\u001b[39m [i \u001b[38;5;28;01mfor\u001b[39;00m i \u001b[38;5;129;01min\u001b[39;00m H[:,\u001b[38;5;241m-\u001b[39m\u001b[38;5;241m1\u001b[39m]]\n\u001b[1;32m     18\u001b[0m \u001b[38;5;66;03m# Valuation by LS Method\u001b[39;00m\n\u001b[1;32m     19\u001b[0m \u001b[38;5;28;01mfor\u001b[39;00m t \u001b[38;5;129;01min\u001b[39;00m \u001b[38;5;28mrange\u001b[39m(steps\u001b[38;5;241m-\u001b[39m\u001b[38;5;241m2\u001b[39m, \u001b[38;5;241m0\u001b[39m, \u001b[38;5;241m-\u001b[39m\u001b[38;5;241m1\u001b[39m):\n",
      "File \u001b[0;32m~/Desktop/mfe/project/citi/term_2_citi_project/citi/lib/python3.8/site-packages/jax/core.py:537\u001b[0m, in \u001b[0;36mTracer.__array__\u001b[0;34m(self, *args, **kw)\u001b[0m\n\u001b[1;32m    536\u001b[0m \u001b[38;5;28;01mdef\u001b[39;00m \u001b[38;5;21m__array__\u001b[39m(\u001b[38;5;28mself\u001b[39m, \u001b[38;5;241m*\u001b[39margs, \u001b[38;5;241m*\u001b[39m\u001b[38;5;241m*\u001b[39mkw):\n\u001b[0;32m--> 537\u001b[0m   \u001b[38;5;28;01mraise\u001b[39;00m TracerArrayConversionError(\u001b[38;5;28mself\u001b[39m)\n",
      "\u001b[0;31mTracerArrayConversionError\u001b[0m: The numpy.ndarray conversion method __array__() was called on the JAX Tracer object Traced<ConcreteArray(0.0, dtype=float64)>with<JVPTrace(level=2/0)> with\n  primal = DeviceArray(0., dtype=float64)\n  tangent = Traced<ShapedArray(float64[])>with<JaxprTrace(level=1/0)> with\n    pval = (ShapedArray(float64[]), *)\n    recipe = JaxprEqnRecipe(eqn_id=<object object at 0x136fe9990>, in_tracers=(Traced<ShapedArray(float64[1]):JaxprTrace(level=1/0)>,), out_tracer_refs=[<weakref at 0x2b2b6b590; to 'JaxprTracer' at 0x2b2b6bae0>], out_avals=[ShapedArray(float64[])], primitive=squeeze, params={'dimensions': (0,)}, effects=set(), source_info=SourceInfo(traceback=<jaxlib.xla_extension.Traceback object at 0x2b5aa01b0>, name_stack=NameStack(stack=(Transform(name='jvp'),))))\nSee https://jax.readthedocs.io/en/latest/errors.html#jax.errors.TracerArrayConversionError"
     ]
    }
   ],
   "source": [
    "print(grad(put_price, argnums=0)(0.05, paths = 10000, steps=100, K=1.0, maturity = 1.0, data=sample.T))"
   ]
  }
 ],
 "metadata": {
  "kernelspec": {
   "display_name": "Python 3 (ipykernel)",
   "language": "python",
   "name": "python3"
  },
  "language_info": {
   "codemirror_mode": {
    "name": "ipython",
    "version": 3
   },
   "file_extension": ".py",
   "mimetype": "text/x-python",
   "name": "python",
   "nbconvert_exporter": "python",
   "pygments_lexer": "ipython3",
   "version": "3.8.9"
  }
 },
 "nbformat": 4,
 "nbformat_minor": 5
}
