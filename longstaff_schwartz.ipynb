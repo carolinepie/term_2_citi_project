{
 "cells": [
  {
   "cell_type": "code",
   "execution_count": 24,
   "id": "850d9031",
   "metadata": {},
   "outputs": [],
   "source": [
    "import numpy as np\n",
    "import jax\n",
    "import jax.numpy as jnp\n",
    "import scipy.stats as ss\n",
    "import tensorly as tl\n",
    "tl.set_backend('jax')\n",
    "# import matplotlib.pyplot as plt\n",
    "# %matplotlib inline\n",
    "# from IPython.display import display\n",
    "# import sympy; sympy.init_printing()\n",
    "\n",
    "# def display_matrix(m):\n",
    "#     display(sympy.Matrix(m))"
   ]
  },
  {
   "cell_type": "code",
   "execution_count": 40,
   "id": "322ab6b5",
   "metadata": {},
   "outputs": [],
   "source": [
    "sample = np.genfromtxt('references/sample.csv', delimiter=',')"
   ]
  },
  {
   "cell_type": "code",
   "execution_count": 46,
   "id": "5d0b29a1",
   "metadata": {},
   "outputs": [
    {
     "name": "stdout",
     "output_type": "stream",
     "text": [
      "[[1.05       1.04856412 1.01787965]\n",
      " [1.05       1.02942462 1.00856132]\n",
      " [1.05       1.12692091 1.11423357]]\n"
     ]
    }
   ],
   "source": [
    "S = jnp.transpose(sample)\n",
    "print(S[:3,3])"
   ]
  },
  {
   "cell_type": "code",
   "execution_count": 62,
   "id": "9d5c8ee7",
   "metadata": {},
   "outputs": [
    {
     "name": "stdout",
     "output_type": "stream",
     "text": [
      "(10000, 100)\n",
      "1.0518324048639505\n",
      "0.2652238988718132\n"
     ]
    }
   ],
   "source": [
    "# check distribution\n",
    "print(S.shape) # paths, time\n",
    "# print(S[:,-1][:5])\n",
    "\n",
    "print(np.mean(S[:,-1]))\n",
    "print(np.std(S[:,-1]))\n",
    "\n",
    "# 1.05\n",
    "# 0.2667"
   ]
  },
  {
   "cell_type": "code",
   "execution_count": 56,
   "id": "02d1d85c",
   "metadata": {},
   "outputs": [],
   "source": [
    "N = S.shape[1]          # number of time steps\n",
    "r = 0.05       # interest rate\n",
    "K = 1          # strike \n",
    "T = 1          # Maturity\n",
    "\n",
    "dt = T/(N-1)          # time interval\n",
    "df = jnp.exp(-r * dt)  # discount factor per time interval"
   ]
  },
  {
   "cell_type": "code",
   "execution_count": 59,
   "id": "e53f443e",
   "metadata": {},
   "outputs": [
    {
     "name": "stdout",
     "output_type": "stream",
     "text": [
      "Example price=  0.07364798698126832\n"
     ]
    }
   ],
   "source": [
    "H = np.maximum(K - S, 0)           # intrinsic values for put option\n",
    "\n",
    "V = np.zeros_like(H)               # value matrix\n",
    "V[:,-1] = H[:,-1]\n",
    "\n",
    "# Valuation by LS Method\n",
    "for t in range(N-2, 0, -1):\n",
    "\n",
    "    good_paths = H[:,t] > 0        # paths where the intrinsic value is positive \n",
    "                                   # the regression is performed only on these paths \n",
    "    \n",
    "    rg = jnp.polyfit( S[good_paths, t], V[good_paths, t+1] * df, 2)    # polynomial regression\n",
    "    C = jnp.polyval( rg, S[good_paths,t] )                             # evaluation of regression  \n",
    "    \n",
    "    exercise = np.zeros( len(good_paths), dtype=bool)    # initialize\n",
    "    exercise[good_paths] = H[good_paths,t] > C           # paths where it is optimal to exercise\n",
    "    \n",
    "    V[exercise,t] = H[exercise,t]                        # set V equal to H where it is optimal to exercise \n",
    "    V[exercise,t+1:] = 0                                 # set future cash flows, for that path, equal to zero  \n",
    "    discount_path = (V[:,t] == 0)                        # paths where we didn't exercise \n",
    "    V[discount_path,t] = V[discount_path,t+1] * df       # set V[t] in continuation region\n",
    "    \n",
    "V0 = jnp.mean(V[:,1]) * df  # discounted expectation of V[t=1]\n",
    "print(\"Example price= \", V0)"
   ]
  },
  {
   "cell_type": "code",
   "execution_count": 60,
   "id": "e91b9a7c",
   "metadata": {},
   "outputs": [
    {
     "name": "stdout",
     "output_type": "stream",
     "text": [
      "[[0.   0.   0.   ... 0.   0.   0.  ]\n",
      " [0.   0.   0.   ... 0.18 0.15 0.12]\n",
      " [0.   0.   0.   ... 0.15 0.16 0.2 ]\n",
      " ...\n",
      " [0.   0.   0.   ... 0.23 0.26 0.27]\n",
      " [0.   0.   0.   ... 0.   0.   0.  ]\n",
      " [0.   0.   0.   ... 0.   0.   0.  ]]\n"
     ]
    }
   ],
   "source": [
    "print(H.round(2))"
   ]
  },
  {
   "cell_type": "code",
   "execution_count": 61,
   "id": "a9961f6d",
   "metadata": {},
   "outputs": [],
   "source": [
    "# 0.0797"
   ]
  }
 ],
 "metadata": {
  "kernelspec": {
   "display_name": "Python 3 (ipykernel)",
   "language": "python",
   "name": "python3"
  },
  "language_info": {
   "codemirror_mode": {
    "name": "ipython",
    "version": 3
   },
   "file_extension": ".py",
   "mimetype": "text/x-python",
   "name": "python",
   "nbconvert_exporter": "python",
   "pygments_lexer": "ipython3",
   "version": "3.8.9"
  }
 },
 "nbformat": 4,
 "nbformat_minor": 5
}
