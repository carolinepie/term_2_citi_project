{
 "cells": [
  {
   "cell_type": "code",
   "execution_count": 1,
   "id": "850d9031",
   "metadata": {},
   "outputs": [],
   "source": [
    "import numpy as np\n",
    "import jax\n",
    "import jax.numpy as jnp\n",
    "# import scipy.stats as ss\n",
    "import tensorly as tl\n",
    "from tensorly.regression.tucker_regression import TuckerRegressor\n",
    "\n",
    "# import matplotlib.pyplot as plt\n",
    "# %matplotlib inline\n",
    "# from IPython.display import display\n",
    "# import sympy; sympy.init_printing()\n",
    "\n",
    "# def display_matrix(m):\n",
    "#     display(sympy.Matrix(m))"
   ]
  },
  {
   "cell_type": "code",
   "execution_count": 2,
   "id": "a4a937c7-a4bd-4fcb-8a53-c5b1fbbfcb65",
   "metadata": {},
   "outputs": [],
   "source": [
    "try:\n",
    "    tl.set_backend('jax')\n",
    "except:\n",
    "    pass\n",
    "tl.set_backend('jax')"
   ]
  },
  {
   "cell_type": "code",
   "execution_count": 3,
   "id": "97cf3a42-d65c-4c1b-9bc9-2c5e51e2f056",
   "metadata": {},
   "outputs": [],
   "source": [
    "SEED = 123"
   ]
  },
  {
   "cell_type": "code",
   "execution_count": 4,
   "id": "322ab6b5",
   "metadata": {},
   "outputs": [],
   "source": [
    "sample = np.genfromtxt('references/sample.csv', delimiter=',')"
   ]
  },
  {
   "cell_type": "code",
   "execution_count": 5,
   "id": "5d0b29a1",
   "metadata": {},
   "outputs": [
    {
     "name": "stderr",
     "output_type": "stream",
     "text": [
      "WARNING:absl:No GPU/TPU found, falling back to CPU. (Set TF_CPP_MIN_LOG_LEVEL=0 and rerun for more info.)\n"
     ]
    },
    {
     "name": "stdout",
     "output_type": "stream",
     "text": [
      "(10000, 100)\n"
     ]
    }
   ],
   "source": [
    "S = jnp.transpose(sample)\n",
    "\n",
    "# check distribution\n",
    "print(S.shape) # paths, time"
   ]
  },
  {
   "cell_type": "code",
   "execution_count": 6,
   "id": "9d5c8ee7",
   "metadata": {},
   "outputs": [
    {
     "name": "stdout",
     "output_type": "stream",
     "text": [
      "1.0518324048923096\n",
      "0.26522389889480086\n"
     ]
    }
   ],
   "source": [
    "print(jnp.mean(S[:,-1]))\n",
    "print(jnp.std(S[:,-1]))\n",
    "\n",
    "# 1.05\n",
    "# 0.2667"
   ]
  },
  {
   "cell_type": "code",
   "execution_count": 7,
   "id": "02d1d85c",
   "metadata": {},
   "outputs": [],
   "source": [
    "N = S.shape[1]          # number of time steps\n",
    "r = 0.05       # interest rate\n",
    "K = 1          # strike \n",
    "T = 1          # Maturity\n",
    "\n",
    "dt = T/(N-1)          # time interval\n",
    "df = jnp.exp(-r * dt)  # discount factor per time interval"
   ]
  },
  {
   "cell_type": "code",
   "execution_count": 8,
   "id": "3cbf9537-114d-4b9f-b1d4-12b1395976f3",
   "metadata": {},
   "outputs": [],
   "source": [
    "# # jax assignment\n",
    "# x.at[i].set(y)"
   ]
  },
  {
   "cell_type": "code",
   "execution_count": 9,
   "id": "e53f443e",
   "metadata": {},
   "outputs": [],
   "source": [
    "# # Previous sample\n",
    "# H = np.maximum(K - S, 0)           # intrinsic values for put option\n",
    "\n",
    "# V = np.zeros_like(H)               # value matrix\n",
    "# V[:,-1] = H[:,-1]\n",
    "\n",
    "# # Valuation by Longstaff-Schwartz (LS) Method\n",
    "# for t in range(N-2, 0, -1):\n",
    "\n",
    "#     good_paths = H[:,t] > 0        # paths where the intrinsic value is positive \n",
    "#                                    # the regression is performed only on these paths \n",
    "    \n",
    "#     rg = jnp.polyfit( S[good_paths, t], V[good_paths, t+1] * df, 2)    # polynomial regression\n",
    "#     C = jnp.polyval( rg, S[good_paths,t] )                             # evaluation of regression \n",
    "    \n",
    "#     exercise = np.zeros( len(good_paths), dtype=bool)    # initialize\n",
    "#     exercise[good_paths] = H[good_paths,t] > C           # paths where it is optimal to exercise\n",
    "    \n",
    "#     V[exercise,t] = H[exercise,t]                        # set V equal to H where it is optimal to exercise \n",
    "#     V[exercise,t+1:] = 0                                 # set future cash flows, for that path, equal to zero  \n",
    "#     discount_path = (V[:,t] == 0)                        # paths where we didn't exercise \n",
    "#     V[discount_path,t] = V[discount_path,t+1] * df       # set V[t] in continuation region\n",
    "    \n",
    "# V0 = jnp.mean(V[:,1]) * df  # discounted expectation of V[t=1]\n",
    "# print(\"Example price= \", V0)\n",
    "\n",
    "# # 0.07364798697497656"
   ]
  },
  {
   "cell_type": "code",
   "execution_count": 10,
   "id": "876c1564-6b54-4f08-a8c3-1823ad1f89b1",
   "metadata": {},
   "outputs": [
    {
     "name": "stdout",
     "output_type": "stream",
     "text": [
      "option price = 0.07356839794765795\n"
     ]
    }
   ],
   "source": [
    "H = jnp.maximum(K - S, 0) # intrinsic values for put option\n",
    "V = jnp.zeros_like(H) # value matrix\n",
    "V = V.at[:,-1].set(H[:,-1]) # when option expires, its value equals intrinsic value\n",
    "\n",
    "# Reverse computing\n",
    "for t in range(N-2, 0, -1):\n",
    "    good_paths = H[:,t] > 0 # paths where intrinsic values are positive \n",
    "                            # (removing paths where intrinsic values are 0)\n",
    "                            # regression is performed only on these paths\n",
    "    \n",
    "    # Valuation by Tucker Regression\n",
    "    X = S[good_paths, t].reshape((-1,1,1)) # reshape to fill up dimensions\n",
    "    y = V[good_paths, t+1] * df\n",
    "    estimator = TuckerRegressor(weight_ranks=[1]*X.ndim, verbose=False, random_state=SEED) # hyperparameter: reg_W (default: 1) \n",
    "    estimator.fit(X, y)\n",
    "    fitted_values = estimator.predict(X) # predicted value of option (discounted, as `y` is discounted)\n",
    "    \n",
    "    exercise = jnp.zeros(len(good_paths)).astype(bool) # initialize\n",
    "    # early exercise when value of early exericse at t > predicted value at t+1 (discounted to t)\n",
    "    exerise = exercise.at[good_paths].set(H[good_paths,t] > fitted_values)\n",
    "\n",
    "    V = V.at[exercise,t].set(H[exercise,t]) # set V equal to H where it is optimal to exercise \n",
    "    V = V.at[exercise,t+1:].set(0) # set future cash flows, for that path, equal to zero  \n",
    "    discount_path = V[:,t] == 0 # paths where we didn't exercise\n",
    "    V = V.at[discount_path,t].set(V[discount_path,t+1] * df) # set V[t] in continuation region\n",
    "    \n",
    "V0 = jnp.mean(V[:,1]) * df\n",
    "print(f\"option price = {V0}\")"
   ]
  },
  {
   "cell_type": "code",
   "execution_count": 11,
   "id": "e91b9a7c",
   "metadata": {},
   "outputs": [
    {
     "name": "stdout",
     "output_type": "stream",
     "text": [
      "[[0.   0.   0.   ... 0.   0.   0.  ]\n",
      " [0.   0.   0.   ... 0.18 0.15 0.12]\n",
      " [0.   0.   0.   ... 0.15 0.16 0.2 ]\n",
      " ...\n",
      " [0.   0.   0.   ... 0.23 0.26 0.27]\n",
      " [0.   0.   0.   ... 0.   0.   0.  ]\n",
      " [0.   0.   0.   ... 0.   0.   0.  ]]\n"
     ]
    }
   ],
   "source": [
    "print(H.round(2))"
   ]
  },
  {
   "cell_type": "code",
   "execution_count": 12,
   "id": "a9961f6d",
   "metadata": {},
   "outputs": [],
   "source": [
    "# 0.0797"
   ]
  },
  {
   "cell_type": "code",
   "execution_count": null,
   "id": "72670ce8-a799-475a-8a1a-db4c7e659f0f",
   "metadata": {},
   "outputs": [],
   "source": []
  }
 ],
 "metadata": {
  "kernelspec": {
   "display_name": "Python 3",
   "language": "python",
   "name": "python3"
  },
  "language_info": {
   "codemirror_mode": {
    "name": "ipython",
    "version": 3
   },
   "file_extension": ".py",
   "mimetype": "text/x-python",
   "name": "python",
   "nbconvert_exporter": "python",
   "pygments_lexer": "ipython3",
   "version": "3.7.3"
  }
 },
 "nbformat": 4,
 "nbformat_minor": 5
}
