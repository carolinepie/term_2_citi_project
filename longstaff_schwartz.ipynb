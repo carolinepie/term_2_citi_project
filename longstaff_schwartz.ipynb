{
 "cells": [
  {
   "cell_type": "code",
   "execution_count": 36,
   "id": "850d9031",
   "metadata": {},
   "outputs": [],
   "source": [
    "import numpy as np\n",
    "import jax\n",
    "import jax.numpy as jnp\n",
    "import scipy.stats as ss\n",
    "import tensorly as tl\n",
    "tl.set_backend('jax')\n",
    "# import matplotlib.pyplot as plt\n",
    "# %matplotlib inline\n",
    "# from IPython.display import display\n",
    "# import sympy; sympy.init_printing()\n",
    "\n",
    "# def display_matrix(m):\n",
    "#     display(sympy.Matrix(m))"
   ]
  },
  {
   "cell_type": "code",
   "execution_count": 25,
   "id": "322ab6b5",
   "metadata": {},
   "outputs": [
    {
     "name": "stdout",
     "output_type": "stream",
     "text": [
      "<class 'jaxlib.xla_extension.DeviceArray'>\n",
      "(1000, 25)\n"
     ]
    }
   ],
   "source": [
    "sample = np.genfromtxt('references/sample.csv', delimiter=',')\n",
    "normalized_sample = jnp.transpose(sample/sample[0])\n",
    "print(type(normalized_sample))\n",
    "print(normalized_sample.shape)"
   ]
  },
  {
   "cell_type": "code",
   "execution_count": 31,
   "id": "5d0b29a1",
   "metadata": {},
   "outputs": [],
   "source": [
    "# S = jnp.array([\n",
    "#             [1.00, 1.09, 1.08, 1.34],\n",
    "#             [1.00, 1.16, 1.26, 1.54],\n",
    "#             [1.00, 1.22, 1.07, 1.03],\n",
    "#             [1.00, 0.93, 0.97, 0.92],\n",
    "#             [1.00, 1.11, 1.56, 1.52],\n",
    "#             [1.00, 0.76, 0.77, 0.90],\n",
    "#             [1.00, 0.92, 0.84, 1.01],\n",
    "#             [1.00, 0.88, 1.22, 1.34]])\n",
    "S = normalized_sample"
   ]
  },
  {
   "cell_type": "code",
   "execution_count": 32,
   "id": "f6f5545e",
   "metadata": {},
   "outputs": [],
   "source": [
    "N = S.shape[1]          # number of time steps\n",
    "r = 0.06       # interest rate\n",
    "K = 1.1        # strike \n",
    "T = 1          # Maturity\n",
    "\n",
    "dt = T/(N-1)          # time interval\n",
    "df = jnp.exp(-r * dt)  # discount factor per time interval"
   ]
  },
  {
   "cell_type": "code",
   "execution_count": 33,
   "id": "e53f443e",
   "metadata": {},
   "outputs": [
    {
     "name": "stdout",
     "output_type": "stream",
     "text": [
      "Example price=  0.4206863\n"
     ]
    }
   ],
   "source": [
    "H = np.maximum(K - S, 0)           # intrinsic values for put option\n",
    "\n",
    "V = np.zeros_like(H)               # value matrix\n",
    "V[:,-1] = H[:,-1]\n",
    "\n",
    "# Valuation by LS Method\n",
    "for t in range(N-2, 0, -1):\n",
    "\n",
    "    good_paths = H[:,t] > 0        # paths where the intrinsic value is positive \n",
    "                                   # the regression is performed only on these paths \n",
    "    \n",
    "    rg = jnp.polyfit( S[good_paths, t], V[good_paths, t+1] * df, 2)    # polynomial regression\n",
    "    C = jnp.polyval( rg, S[good_paths,t] )                             # evaluation of regression  \n",
    "    \n",
    "    exercise = np.zeros( len(good_paths), dtype=bool)    # initialize\n",
    "    exercise[good_paths] = H[good_paths,t] > C           # paths where it is optimal to exercise\n",
    "    \n",
    "    V[exercise,t] = H[exercise,t]                        # set V equal to H where it is optimal to exercise \n",
    "    V[exercise,t+1:] = 0                                 # set future cash flows, for that path, equal to zero  \n",
    "    discount_path = (V[:,t] == 0)                        # paths where we didn't exercise \n",
    "    V[discount_path,t] = V[discount_path,t+1] * df       # set V[t] in continuation region\n",
    "    \n",
    "V0 = jnp.mean(V[:,1]) * df  # discounted expectation of V[t=1]\n",
    "print(\"Example price= \", V0)"
   ]
  },
  {
   "cell_type": "code",
   "execution_count": 34,
   "id": "e91b9a7c",
   "metadata": {},
   "outputs": [
    {
     "name": "stdout",
     "output_type": "stream",
     "text": [
      "[[0.1  0.   0.   ... 0.42 0.28 0.38]\n",
      " [0.1  0.29 0.45 ... 0.48 0.5  0.38]\n",
      " [0.1  0.35 0.41 ... 0.24 0.25 0.28]\n",
      " ...\n",
      " [0.1  0.26 0.07 ... 0.   0.   0.  ]\n",
      " [0.1  0.04 0.   ... 0.   0.09 0.15]\n",
      " [0.1  0.05 0.01 ... 0.95 0.91 1.01]]\n"
     ]
    }
   ],
   "source": [
    "print(H.round(2))\n"
   ]
  },
  {
   "cell_type": "code",
   "execution_count": null,
   "id": "a9961f6d",
   "metadata": {},
   "outputs": [],
   "source": []
  }
 ],
 "metadata": {
  "kernelspec": {
   "display_name": "Python 3 (ipykernel)",
   "language": "python",
   "name": "python3"
  },
  "language_info": {
   "codemirror_mode": {
    "name": "ipython",
    "version": 3
   },
   "file_extension": ".py",
   "mimetype": "text/x-python",
   "name": "python",
   "nbconvert_exporter": "python",
   "pygments_lexer": "ipython3",
   "version": "3.8.9"
  }
 },
 "nbformat": 4,
 "nbformat_minor": 5
}
