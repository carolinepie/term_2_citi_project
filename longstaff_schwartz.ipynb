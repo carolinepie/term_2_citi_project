{
 "cells": [
  {
   "cell_type": "code",
   "execution_count": 8,
   "id": "850d9031",
   "metadata": {},
   "outputs": [
    {
     "name": "stderr",
     "output_type": "stream",
     "text": [
      "/Users/carolinepei/Desktop/mfe/project/citi/term_2_citi_project/citi/lib/python3.8/site-packages/jax/_src/lib/__init__.py:33: UserWarning: JAX on Mac ARM machines is experimental and minimally tested. Please see https://github.com/google/jax/issues/5501 in the event of problems.\n",
      "  warnings.warn(\"JAX on Mac ARM machines is experimental and minimally tested. \"\n"
     ]
    },
    {
     "ename": "AttributeError",
     "evalue": "partially initialized module 'jax' has no attribute '_src' (most likely due to a circular import)",
     "output_type": "error",
     "traceback": [
      "\u001b[0;31m---------------------------------------------------------------------------\u001b[0m",
      "\u001b[0;31mAttributeError\u001b[0m                            Traceback (most recent call last)",
      "Input \u001b[0;32mIn [8]\u001b[0m, in \u001b[0;36m<cell line: 2>\u001b[0;34m()\u001b[0m\n\u001b[1;32m      1\u001b[0m \u001b[38;5;28;01mimport\u001b[39;00m \u001b[38;5;21;01mnumpy\u001b[39;00m \u001b[38;5;28;01mas\u001b[39;00m \u001b[38;5;21;01mnp\u001b[39;00m\n\u001b[0;32m----> 2\u001b[0m \u001b[38;5;28;01mimport\u001b[39;00m \u001b[38;5;21;01mjax\u001b[39;00m\u001b[38;5;21;01m.\u001b[39;00m\u001b[38;5;21;01mnumpy\u001b[39;00m \u001b[38;5;28;01mas\u001b[39;00m \u001b[38;5;21;01mjnp\u001b[39;00m\n\u001b[1;32m      3\u001b[0m \u001b[38;5;28;01mimport\u001b[39;00m \u001b[38;5;21;01mscipy\u001b[39;00m\u001b[38;5;21;01m.\u001b[39;00m\u001b[38;5;21;01mstats\u001b[39;00m \u001b[38;5;28;01mas\u001b[39;00m \u001b[38;5;21;01mss\u001b[39;00m\n",
      "File \u001b[0;32m~/Desktop/mfe/project/citi/term_2_citi_project/citi/lib/python3.8/site-packages/jax/__init__.py:58\u001b[0m, in \u001b[0;36m<module>\u001b[0;34m\u001b[0m\n\u001b[1;32m     38\u001b[0m \u001b[38;5;28;01mfrom\u001b[39;00m \u001b[38;5;21;01mjax\u001b[39;00m\u001b[38;5;21;01m.\u001b[39;00m\u001b[38;5;21;01m_src\u001b[39;00m\u001b[38;5;21;01m.\u001b[39;00m\u001b[38;5;21;01mconfig\u001b[39;00m \u001b[38;5;28;01mimport\u001b[39;00m (\n\u001b[1;32m     39\u001b[0m   config \u001b[38;5;28;01mas\u001b[39;00m config,\n\u001b[1;32m     40\u001b[0m   enable_checks \u001b[38;5;28;01mas\u001b[39;00m enable_checks,\n\u001b[0;32m   (...)\u001b[0m\n\u001b[1;32m     55\u001b[0m   transfer_guard_device_to_host \u001b[38;5;28;01mas\u001b[39;00m transfer_guard_device_to_host,\n\u001b[1;32m     56\u001b[0m )\n\u001b[1;32m     57\u001b[0m \u001b[38;5;28;01mfrom\u001b[39;00m \u001b[38;5;21;01m.\u001b[39;00m\u001b[38;5;21;01mcore\u001b[39;00m \u001b[38;5;28;01mimport\u001b[39;00m eval_context \u001b[38;5;28;01mas\u001b[39;00m ensure_compile_time_eval\n\u001b[0;32m---> 58\u001b[0m \u001b[38;5;28;01mfrom\u001b[39;00m \u001b[38;5;21;01mjax\u001b[39;00m\u001b[38;5;21;01m.\u001b[39;00m\u001b[38;5;21;01m_src\u001b[39;00m\u001b[38;5;21;01m.\u001b[39;00m\u001b[38;5;21;01mapi\u001b[39;00m \u001b[38;5;28;01mimport\u001b[39;00m (\n\u001b[1;32m     59\u001b[0m   ad,  \u001b[38;5;66;03m# TODO(phawkins): update users to avoid this.\u001b[39;00m\n\u001b[1;32m     60\u001b[0m   block_until_ready,\n\u001b[1;32m     61\u001b[0m   checkpoint \u001b[38;5;28;01mas\u001b[39;00m checkpoint,\n\u001b[1;32m     62\u001b[0m   checkpoint_policies \u001b[38;5;28;01mas\u001b[39;00m checkpoint_policies,\n\u001b[1;32m     63\u001b[0m   closure_convert \u001b[38;5;28;01mas\u001b[39;00m closure_convert,\n\u001b[1;32m     64\u001b[0m   curry,  \u001b[38;5;66;03m# TODO(phawkins): update users to avoid this.\u001b[39;00m\n\u001b[1;32m     65\u001b[0m   custom_gradient \u001b[38;5;28;01mas\u001b[39;00m custom_gradient,\n\u001b[1;32m     66\u001b[0m   custom_jvp \u001b[38;5;28;01mas\u001b[39;00m custom_jvp,\n\u001b[1;32m     67\u001b[0m   custom_vjp \u001b[38;5;28;01mas\u001b[39;00m custom_vjp,\n\u001b[1;32m     68\u001b[0m   default_backend \u001b[38;5;28;01mas\u001b[39;00m default_backend,\n\u001b[1;32m     69\u001b[0m   device_count \u001b[38;5;28;01mas\u001b[39;00m device_count,\n\u001b[1;32m     70\u001b[0m   device_get \u001b[38;5;28;01mas\u001b[39;00m device_get,\n\u001b[1;32m     71\u001b[0m   device_put \u001b[38;5;28;01mas\u001b[39;00m device_put,\n\u001b[1;32m     72\u001b[0m   device_put_sharded \u001b[38;5;28;01mas\u001b[39;00m device_put_sharded,\n\u001b[1;32m     73\u001b[0m   device_put_replicated \u001b[38;5;28;01mas\u001b[39;00m device_put_replicated,\n\u001b[1;32m     74\u001b[0m   devices \u001b[38;5;28;01mas\u001b[39;00m devices,\n\u001b[1;32m     75\u001b[0m   disable_jit \u001b[38;5;28;01mas\u001b[39;00m disable_jit,\n\u001b[1;32m     76\u001b[0m   eval_shape \u001b[38;5;28;01mas\u001b[39;00m eval_shape,\n\u001b[1;32m     77\u001b[0m   flatten_fun_nokwargs,  \u001b[38;5;66;03m# TODO(phawkins): update users to avoid this.\u001b[39;00m\n\u001b[1;32m     78\u001b[0m   float0 \u001b[38;5;28;01mas\u001b[39;00m float0,\n\u001b[1;32m     79\u001b[0m   grad \u001b[38;5;28;01mas\u001b[39;00m grad,\n\u001b[1;32m     80\u001b[0m   hessian \u001b[38;5;28;01mas\u001b[39;00m hessian,\n\u001b[1;32m     81\u001b[0m   host_count \u001b[38;5;28;01mas\u001b[39;00m host_count,\n\u001b[1;32m     82\u001b[0m   host_id \u001b[38;5;28;01mas\u001b[39;00m host_id,\n\u001b[1;32m     83\u001b[0m   host_ids \u001b[38;5;28;01mas\u001b[39;00m host_ids,\n\u001b[1;32m     84\u001b[0m   jacobian \u001b[38;5;28;01mas\u001b[39;00m jacobian,\n\u001b[1;32m     85\u001b[0m   jacfwd \u001b[38;5;28;01mas\u001b[39;00m jacfwd,\n\u001b[1;32m     86\u001b[0m   jacrev \u001b[38;5;28;01mas\u001b[39;00m jacrev,\n\u001b[1;32m     87\u001b[0m   jit \u001b[38;5;28;01mas\u001b[39;00m jit,\n\u001b[1;32m     88\u001b[0m   jvp \u001b[38;5;28;01mas\u001b[39;00m jvp,\n\u001b[1;32m     89\u001b[0m   local_device_count \u001b[38;5;28;01mas\u001b[39;00m local_device_count,\n\u001b[1;32m     90\u001b[0m   local_devices \u001b[38;5;28;01mas\u001b[39;00m local_devices,\n\u001b[1;32m     91\u001b[0m   linearize \u001b[38;5;28;01mas\u001b[39;00m linearize,\n\u001b[1;32m     92\u001b[0m   linear_transpose \u001b[38;5;28;01mas\u001b[39;00m linear_transpose,\n\u001b[1;32m     93\u001b[0m   make_jaxpr \u001b[38;5;28;01mas\u001b[39;00m make_jaxpr,\n\u001b[1;32m     94\u001b[0m   mask \u001b[38;5;28;01mas\u001b[39;00m mask,\n\u001b[1;32m     95\u001b[0m   named_call \u001b[38;5;28;01mas\u001b[39;00m named_call,\n\u001b[1;32m     96\u001b[0m   pmap \u001b[38;5;28;01mas\u001b[39;00m pmap,\n\u001b[1;32m     97\u001b[0m   process_count \u001b[38;5;28;01mas\u001b[39;00m process_count,\n\u001b[1;32m     98\u001b[0m   process_index \u001b[38;5;28;01mas\u001b[39;00m process_index,\n\u001b[1;32m     99\u001b[0m   pxla,  \u001b[38;5;66;03m# TODO(phawkins): update users to avoid this.\u001b[39;00m\n\u001b[1;32m    100\u001b[0m   remat \u001b[38;5;28;01mas\u001b[39;00m remat,\n\u001b[1;32m    101\u001b[0m   shapecheck \u001b[38;5;28;01mas\u001b[39;00m shapecheck,\n\u001b[1;32m    102\u001b[0m   ShapedArray \u001b[38;5;28;01mas\u001b[39;00m ShapedArray,\n\u001b[1;32m    103\u001b[0m   ShapeDtypeStruct \u001b[38;5;28;01mas\u001b[39;00m ShapeDtypeStruct,\n\u001b[1;32m    104\u001b[0m   \u001b[38;5;66;03m# TODO(phawkins): hide tree* functions from jax, update callers to use\u001b[39;00m\n\u001b[1;32m    105\u001b[0m   \u001b[38;5;66;03m# jax.tree_util.\u001b[39;00m\n\u001b[1;32m    106\u001b[0m   treedef_is_leaf,\n\u001b[1;32m    107\u001b[0m   tree_flatten,\n\u001b[1;32m    108\u001b[0m   tree_leaves,\n\u001b[1;32m    109\u001b[0m   tree_map,\n\u001b[1;32m    110\u001b[0m   tree_multimap,\n\u001b[1;32m    111\u001b[0m   tree_structure,\n\u001b[1;32m    112\u001b[0m   tree_transpose,\n\u001b[1;32m    113\u001b[0m   tree_unflatten,\n\u001b[1;32m    114\u001b[0m   value_and_grad \u001b[38;5;28;01mas\u001b[39;00m value_and_grad,\n\u001b[1;32m    115\u001b[0m   vjp \u001b[38;5;28;01mas\u001b[39;00m vjp,\n\u001b[1;32m    116\u001b[0m   vmap \u001b[38;5;28;01mas\u001b[39;00m vmap,\n\u001b[1;32m    117\u001b[0m   xla,  \u001b[38;5;66;03m# TODO(phawkins): update users to avoid this.\u001b[39;00m\n\u001b[1;32m    118\u001b[0m   xla_computation \u001b[38;5;28;01mas\u001b[39;00m xla_computation,\n\u001b[1;32m    119\u001b[0m )\n\u001b[1;32m    120\u001b[0m \u001b[38;5;28;01mfrom\u001b[39;00m \u001b[38;5;21;01mjax\u001b[39;00m\u001b[38;5;21;01m.\u001b[39;00m\u001b[38;5;21;01mexperimental\u001b[39;00m\u001b[38;5;21;01m.\u001b[39;00m\u001b[38;5;21;01mmaps\u001b[39;00m \u001b[38;5;28;01mimport\u001b[39;00m soft_pmap \u001b[38;5;28;01mas\u001b[39;00m soft_pmap\n\u001b[1;32m    121\u001b[0m \u001b[38;5;28;01mfrom\u001b[39;00m \u001b[38;5;21;01mjax\u001b[39;00m\u001b[38;5;21;01m.\u001b[39;00m\u001b[38;5;21;01mversion\u001b[39;00m \u001b[38;5;28;01mimport\u001b[39;00m __version__ \u001b[38;5;28;01mas\u001b[39;00m __version__\n",
      "File \u001b[0;32m~/Desktop/mfe/project/citi/term_2_citi_project/citi/lib/python3.8/site-packages/jax/_src/api.py:61\u001b[0m, in \u001b[0;36m<module>\u001b[0;34m\u001b[0m\n\u001b[1;32m     55\u001b[0m \u001b[38;5;28;01mfrom\u001b[39;00m \u001b[38;5;21;01mjax\u001b[39;00m\u001b[38;5;21;01m.\u001b[39;00m\u001b[38;5;21;01m_src\u001b[39;00m \u001b[38;5;28;01mimport\u001b[39;00m traceback_util\n\u001b[1;32m     56\u001b[0m \u001b[38;5;28;01mfrom\u001b[39;00m \u001b[38;5;21;01mjax\u001b[39;00m\u001b[38;5;21;01m.\u001b[39;00m\u001b[38;5;21;01m_src\u001b[39;00m\u001b[38;5;21;01m.\u001b[39;00m\u001b[38;5;21;01mapi_util\u001b[39;00m \u001b[38;5;28;01mimport\u001b[39;00m (\n\u001b[1;32m     57\u001b[0m     flatten_fun, apply_flat_fun, flatten_fun_nokwargs, flatten_fun_nokwargs2,\n\u001b[1;32m     58\u001b[0m     argnums_partial, argnums_partial_except, flatten_axes, donation_vector,\n\u001b[1;32m     59\u001b[0m     rebase_donate_argnums, _ensure_index, _ensure_index_tuple,\n\u001b[1;32m     60\u001b[0m     shaped_abstractify, _ensure_str_tuple, argnames_partial_except)\n\u001b[0;32m---> 61\u001b[0m \u001b[38;5;28;01mfrom\u001b[39;00m \u001b[38;5;21;01mjax\u001b[39;00m\u001b[38;5;21;01m.\u001b[39;00m\u001b[38;5;21;01m_src\u001b[39;00m\u001b[38;5;21;01m.\u001b[39;00m\u001b[38;5;21;01mlax\u001b[39;00m \u001b[38;5;28;01mimport\u001b[39;00m lax \u001b[38;5;28;01mas\u001b[39;00m lax_internal\n\u001b[1;32m     62\u001b[0m \u001b[38;5;28;01mfrom\u001b[39;00m \u001b[38;5;21;01mjax\u001b[39;00m\u001b[38;5;21;01m.\u001b[39;00m\u001b[38;5;21;01m_src\u001b[39;00m\u001b[38;5;21;01m.\u001b[39;00m\u001b[38;5;21;01mlib\u001b[39;00m \u001b[38;5;28;01mimport\u001b[39;00m jax_jit\n\u001b[1;32m     63\u001b[0m \u001b[38;5;28;01mfrom\u001b[39;00m \u001b[38;5;21;01mjax\u001b[39;00m\u001b[38;5;21;01m.\u001b[39;00m\u001b[38;5;21;01m_src\u001b[39;00m\u001b[38;5;21;01m.\u001b[39;00m\u001b[38;5;21;01mlib\u001b[39;00m \u001b[38;5;28;01mimport\u001b[39;00m xla_bridge \u001b[38;5;28;01mas\u001b[39;00m xb\n",
      "File \u001b[0;32m~/Desktop/mfe/project/citi/term_2_citi_project/citi/lib/python3.8/site-packages/jax/_src/lax/lax.py:1653\u001b[0m, in \u001b[0;36m<module>\u001b[0;34m\u001b[0m\n\u001b[1;32m   1651\u001b[0m tan_p \u001b[38;5;241m=\u001b[39m standard_unop(_float \u001b[38;5;241m|\u001b[39m _complex, \u001b[38;5;124m'\u001b[39m\u001b[38;5;124mtan\u001b[39m\u001b[38;5;124m'\u001b[39m)\n\u001b[1;32m   1652\u001b[0m ad\u001b[38;5;241m.\u001b[39mdefjvp2(tan_p, \u001b[38;5;28;01mlambda\u001b[39;00m g, ans, x: mul(g, _const(x, \u001b[38;5;241m1\u001b[39m) \u001b[38;5;241m+\u001b[39m square(ans)))\n\u001b[0;32m-> 1653\u001b[0m \u001b[38;5;28;01mif\u001b[39;00m \u001b[43mjax\u001b[49m\u001b[38;5;241;43m.\u001b[39;49m\u001b[43m_src\u001b[49m\u001b[38;5;241m.\u001b[39mlib\u001b[38;5;241m.\u001b[39mmlir_api_version \u001b[38;5;241m>\u001b[39m\u001b[38;5;241m=\u001b[39m \u001b[38;5;241m11\u001b[39m:\n\u001b[1;32m   1654\u001b[0m   mlir\u001b[38;5;241m.\u001b[39mregister_lowering(tan_p, partial(_nary_lower_mhlo, chlo\u001b[38;5;241m.\u001b[39mTanOp))\n\u001b[1;32m   1655\u001b[0m \u001b[38;5;28;01melse\u001b[39;00m:\n",
      "\u001b[0;31mAttributeError\u001b[0m: partially initialized module 'jax' has no attribute '_src' (most likely due to a circular import)"
     ]
    }
   ],
   "source": [
    "import numpy as np\n",
    "import jax.numpy as jnp\n",
    "import scipy.stats as ss\n",
    "\n",
    "# import matplotlib.pyplot as plt\n",
    "# %matplotlib inline\n",
    "# from IPython.display import display\n",
    "# import sympy; sympy.init_printing()\n",
    "\n",
    "# def display_matrix(m):\n",
    "#     display(sympy.Matrix(m))"
   ]
  },
  {
   "cell_type": "code",
   "execution_count": null,
   "id": "f6f5545e",
   "metadata": {},
   "outputs": [],
   "source": [
    "N = 4          # number of time steps\n",
    "r = 0.06       # interest rate\n",
    "K = 1.1        # strike \n",
    "T = 3          # Maturity\n",
    "\n",
    "dt = T/(N-1)          # time interval\n",
    "df = jnp.exp(-r * dt)  # discount factor per time interval"
   ]
  },
  {
   "cell_type": "code",
   "execution_count": null,
   "id": "5d0b29a1",
   "metadata": {},
   "outputs": [],
   "source": [
    "S = jnp.array([\n",
    "            [1.00, 1.09, 1.08, 1.34],\n",
    "            [1.00, 1.16, 1.26, 1.54],\n",
    "            [1.00, 1.22, 1.07, 1.03],\n",
    "            [1.00, 0.93, 0.97, 0.92],\n",
    "            [1.00, 1.11, 1.56, 1.52],\n",
    "            [1.00, 0.76, 0.77, 0.90],\n",
    "            [1.00, 0.92, 0.84, 1.01],\n",
    "            [1.00, 0.88, 1.22, 1.34]])"
   ]
  },
  {
   "cell_type": "code",
   "execution_count": null,
   "id": "e53f443e",
   "metadata": {},
   "outputs": [],
   "source": [
    "H = jnp.maximum(K - S, 0)           # intrinsic values for put option\n",
    "V = jnp.zeros_like(H)               # value matrix\n",
    "V[:,-1] = H[:,-1]\n",
    "\n",
    "# Valuation by LS Method\n",
    "for t in range(N-2, 0, -1):\n",
    "\n",
    "    good_paths = H[:,t] > 0        # paths where the intrinsic value is positive \n",
    "                                   # the regression is performed only on these paths \n",
    "    \n",
    "    rg = jnp.polyfit( S[good_paths, t], V[good_paths, t+1] * df, 2)    # polynomial regression\n",
    "    C = jnp.polyval( rg, S[good_paths,t] )                             # evaluation of regression  \n",
    "    \n",
    "    exercise = jnp.zeros( len(good_paths), dtype=bool)    # initialize\n",
    "    exercise[good_paths] = H[good_paths,t] > C           # paths where it is optimal to exercise\n",
    "    \n",
    "    V[exercise,t] = H[exercise,t]                        # set V equal to H where it is optimal to exercise \n",
    "    V[exercise,t+1:] = 0                                 # set future cash flows, for that path, equal to zero  \n",
    "    discount_path = (V[:,t] == 0)                        # paths where we didn't exercise \n",
    "    V[discount_path,t] = V[discount_path,t+1] * df       # set V[t] in continuation region\n",
    "    \n",
    "V0 = jnp.mean(V[:,1]) * df  # discounted expectation of V[t=1]\n",
    "print(\"Example price= \", V0)"
   ]
  },
  {
   "cell_type": "code",
   "execution_count": null,
   "id": "e91b9a7c",
   "metadata": {},
   "outputs": [],
   "source": [
    "print(H.round(2))\n"
   ]
  },
  {
   "cell_type": "code",
   "execution_count": null,
   "id": "a9961f6d",
   "metadata": {},
   "outputs": [],
   "source": []
  }
 ],
 "metadata": {
  "kernelspec": {
   "display_name": "Python 3 (ipykernel)",
   "language": "python",
   "name": "python3"
  },
  "language_info": {
   "codemirror_mode": {
    "name": "ipython",
    "version": 3
   },
   "file_extension": ".py",
   "mimetype": "text/x-python",
   "name": "python",
   "nbconvert_exporter": "python",
   "pygments_lexer": "ipython3",
   "version": "3.8.9"
  }
 },
 "nbformat": 4,
 "nbformat_minor": 5
}
