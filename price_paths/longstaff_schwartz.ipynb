{
 "cells": [
  {
   "cell_type": "code",
   "execution_count": 1,
   "id": "850d9031",
   "metadata": {},
   "outputs": [
    {
     "name": "stderr",
     "output_type": "stream",
     "text": [
      "/Users/carolinepei/Desktop/mfe/project/citi/term_2_citi_project/citi/lib/python3.8/site-packages/jax/_src/lib/__init__.py:33: UserWarning: JAX on Mac ARM machines is experimental and minimally tested. Please see https://github.com/google/jax/issues/5501 in the event of problems.\n",
      "  warnings.warn(\"JAX on Mac ARM machines is experimental and minimally tested. \"\n"
     ]
    }
   ],
   "source": [
    "import numpy as np\n",
    "import jax\n",
    "import jax.numpy as jnp\n",
    "import scipy.stats as ss\n",
    "import tensorly as tl\n",
    "from tensorly.regression.tucker_regression import TuckerRegressor\n",
    "from jax import grad\n",
    "from references.SABR_Free import sabrMC\n",
    "import time\n",
    "import matplotlib.pyplot as plt\n",
    "\n",
    "\n",
    "try:\n",
    "    tl.set_backend('jax')\n",
    "except:\n",
    "    pass\n",
    "tl.set_backend('jax')"
   ]
  },
  {
   "cell_type": "code",
   "execution_count": 2,
   "id": "e53f443e",
   "metadata": {},
   "outputs": [
    {
     "name": "stderr",
     "output_type": "stream",
     "text": [
      "WARNING:absl:No GPU/TPU found, falling back to CPU. (Set TF_CPP_MIN_LOG_LEVEL=0 and rerun for more info.)\n"
     ]
    },
    {
     "name": "stdout",
     "output_type": "stream",
     "text": [
      "1.0\n",
      "path generation time: 484.3299252986908\n",
      "longstaff schwartz time: 17.523738145828247\n",
      "Example price=  0.09283224714084289\n"
     ]
    }
   ],
   "source": [
    "def put_price(P0_K = 1., r=0.0, paths = 1000, steps=100, K=1.0, maturity = 1.0, data=None, seed=1):\n",
    "\n",
    "    if data is not None:\n",
    "        S = data.T\n",
    "    else:\n",
    "        np.random.seed(seed)\n",
    "        start = time.time()\n",
    "        S = sabrMC(F0 = P0_K * K, N=paths, T=steps, n_years=maturity).T\n",
    "#         print(jnp.mean(S[:,-1]))\n",
    "        end = time.time()\n",
    "        print(f'path generation time: {end - start}')\n",
    "    \n",
    "    start = time.time()\n",
    "    dt = maturity/(steps-1)         # time interval\n",
    "    df = jnp.exp(-r * dt)           # discount factor per time interval\n",
    "    \n",
    "    H = jnp.maximum(K - S, 0)           # intrinsic values for put option\n",
    "    V = jnp.zeros(H.shape)               # value matrix\n",
    "    V = V.at[:,-1].set(H[:,-1]) \n",
    "\n",
    "    # Valuation by LS Method\n",
    "    for t in range(steps-2, 0, -1):\n",
    "\n",
    "        good_paths = np.array(H[:,t] > 0)        # paths where the intrinsic value is positive \n",
    "                                                 # the regression is performed only on these paths \n",
    "\n",
    "        # Valuation by Tucker Regression\n",
    "        X = S[good_paths, t].reshape((-1,1,1)) # reshape to fill up dimensions\n",
    "        y = V[good_paths, t+1] * df\n",
    "        estimator = TuckerRegressor(weight_ranks=[1]*X.ndim, verbose=False, random_state=seed) # hyperparameter: reg_W (default: 1) \n",
    "        estimator.fit(X, y)\n",
    "        fitted_values = estimator.predict(X) # predicted value of option (discounted, as `y` is discounted)\n",
    "\n",
    "        exercise = jnp.zeros(len(good_paths)).astype(bool) # initialize\n",
    "        # early exercise when value of early exericse at t > predicted value at t+1 (discounted to t)\n",
    "        exerise = exercise.at[good_paths].set(H[good_paths,t] > fitted_values)\n",
    "\n",
    "        V = V.at[exercise,t].set(H[exercise,t]) # set V equal to H where it is optimal to exercise \n",
    "        V = V.at[exercise,t+1:].set(0) # set future cash flows, for that path, equal to zero  \n",
    "        discount_path = V[:,t] == 0 # paths where we didn't exercise\n",
    "        V = V.at[discount_path,t].set(V[discount_path,t+1] * df) # set V[t] in continuation region\n",
    "\n",
    "    V0 = jnp.mean(V[:,1]) * df  # discounted expectation of V[t=1]\n",
    "    end = time.time()\n",
    "    print(f'longstaff schwartz time: {end-start}')\n",
    "    return V0\n",
    "\n",
    "# print(\"normalize Example price= \", put_price(data=sample.T)) # should be US: 0.0797; EU: 0.0747; 0.07313426907833502\n",
    "print(\"Example price= \", put_price(data=None)) # should be 0.0797; 0.07312965550779679"
   ]
  },
  {
   "cell_type": "code",
   "execution_count": 3,
   "id": "6d9363fd",
   "metadata": {},
   "outputs": [
    {
     "name": "stdout",
     "output_type": "stream",
     "text": [
      "1.0\n",
      "path generation time: 49.067626953125\n",
      "longstaff schwartz time: 6.051353931427002\n",
      "Example price=  0.09161354634099851\n"
     ]
    }
   ],
   "source": [
    "print(\"Example price= \", put_price(data=None, paths=100)) # should be 0.0797; 0.07312965550779679"
   ]
  },
  {
   "cell_type": "code",
   "execution_count": 5,
   "id": "a9961f6d",
   "metadata": {},
   "outputs": [
    {
     "name": "stdout",
     "output_type": "stream",
     "text": [
      "delta:\n",
      "Traced<ConcreteArray(1.0, dtype=float64, weak_type=True)>with<JVPTrace(level=2/0)> with\n",
      "  primal = DeviceArray(1., dtype=float64, weak_type=True)\n",
      "  tangent = Traced<ShapedArray(float64[], weak_type=True)>with<JaxprTrace(level=1/0)> with\n",
      "    pval = (ShapedArray(float64[], weak_type=True), *)\n",
      "    recipe = JaxprEqnRecipe(eqn_id=<object object at 0x16c1c2e60>, in_tracers=(Traced<ConcreteArray(1.0, dtype=float64, weak_type=True):JaxprTrace(level=1/0)>, Traced<ShapedArray(float64[], weak_type=True):JaxprTrace(level=1/0)>), out_tracer_refs=[<weakref at 0x2b4799a90; to 'JaxprTracer' at 0x1050419f0>], out_avals=[ShapedArray(float64[], weak_type=True)], primitive=xla_call, params={'device': None, 'backend': None, 'name': 'jvp(fn)', 'donated_invars': (False, False), 'inline': True, 'call_jaxpr': { lambda ; a:f64[] b:f64[]. let c:f64[] = mul b a in (c,) }}, effects=set(), source_info=SourceInfo(traceback=<jaxlib.xla_extension.Traceback object at 0x2b47b8a30>, name_stack=NameStack(stack=(Transform(name='jvp'),))))\n",
      "path generation time: 149.81040811538696\n",
      "longstaff schwartz time: 18.799149990081787\n",
      "-0.41847868311170056\n"
     ]
    }
   ],
   "source": [
    "print('delta:')\n",
    "delta = grad(put_price, argnums=0)\n",
    "print(delta(1., 0.0, paths = 100, steps=100, K=1.0, maturity = 1.0, data=None))\n",
    "# print('gamma:')\n",
    "# gamma = grad(delta, argnums=0)\n",
    "# print(gamma(1., 0.0, paths = 100, steps=100, K=1.0, maturity = 1.0, data=None))"
   ]
  },
  {
   "cell_type": "code",
   "execution_count": 6,
   "id": "39cf6566",
   "metadata": {},
   "outputs": [
    {
     "name": "stdout",
     "output_type": "stream",
     "text": [
      "Traced<ConcreteArray(0.1, dtype=float64)>with<JVPTrace(level=2/0)> with\n",
      "  primal = DeviceArray(0.1, dtype=float64)\n",
      "  tangent = Traced<ShapedArray(float64[])>with<JaxprTrace(level=1/0)> with\n",
      "    pval = (ShapedArray(float64[]), *)\n",
      "    recipe = JaxprEqnRecipe(eqn_id=<object object at 0x2b9673d90>, in_tracers=(Traced<ConcreteArray(1.0, dtype=float64):JaxprTrace(level=1/0)>, Traced<ShapedArray(float64[]):JaxprTrace(level=1/0)>), out_tracer_refs=[<weakref at 0x2bbfd61d0; to 'JaxprTracer' at 0x2bbfd6220>], out_avals=[ShapedArray(float64[])], primitive=xla_call, params={'device': None, 'backend': None, 'name': 'jvp(fn)', 'donated_invars': (False, False), 'inline': True, 'call_jaxpr': { lambda ; a:f64[] b:f64[]. let c:f64[] = mul b a in (c,) }}, effects=set(), source_info=SourceInfo(traceback=<jaxlib.xla_extension.Traceback object at 0x34ed34f30>, name_stack=NameStack(stack=(Transform(name='jvp'),))))\n",
      "path generation time: 154.43394207954407\n",
      "longstaff schwartz time: 62.961792945861816\n",
      "Traced<ConcreteArray(0.3, dtype=float64)>with<JVPTrace(level=2/0)> with\n",
      "  primal = DeviceArray(0.3, dtype=float64)\n",
      "  tangent = Traced<ShapedArray(float64[])>with<JaxprTrace(level=1/0)> with\n",
      "    pval = (ShapedArray(float64[]), *)\n",
      "    recipe = JaxprEqnRecipe(eqn_id=<object object at 0x34e08beb0>, in_tracers=(Traced<ConcreteArray(1.0, dtype=float64):JaxprTrace(level=1/0)>, Traced<ShapedArray(float64[]):JaxprTrace(level=1/0)>), out_tracer_refs=[<weakref at 0x2b59bbef0; to 'JaxprTracer' at 0x2b59bbb80>], out_avals=[ShapedArray(float64[])], primitive=xla_call, params={'device': None, 'backend': None, 'name': 'jvp(fn)', 'donated_invars': (False, False), 'inline': True, 'call_jaxpr': { lambda ; a:f64[] b:f64[]. let c:f64[] = mul b a in (c,) }}, effects=set(), source_info=SourceInfo(traceback=<jaxlib.xla_extension.Traceback object at 0x34090c670>, name_stack=NameStack(stack=(Transform(name='jvp'),))))\n",
      "path generation time: 150.81995391845703\n",
      "longstaff schwartz time: 80.15585994720459\n",
      "Traced<ConcreteArray(0.5, dtype=float64)>with<JVPTrace(level=2/0)> with\n",
      "  primal = DeviceArray(0.5, dtype=float64)\n",
      "  tangent = Traced<ShapedArray(float64[])>with<JaxprTrace(level=1/0)> with\n",
      "    pval = (ShapedArray(float64[]), *)\n",
      "    recipe = JaxprEqnRecipe(eqn_id=<object object at 0x34be68190>, in_tracers=(Traced<ConcreteArray(1.0, dtype=float64):JaxprTrace(level=1/0)>, Traced<ShapedArray(float64[]):JaxprTrace(level=1/0)>), out_tracer_refs=[<weakref at 0x331a69f40; to 'JaxprTracer' at 0x331a69360>], out_avals=[ShapedArray(float64[])], primitive=xla_call, params={'device': None, 'backend': None, 'name': 'jvp(fn)', 'donated_invars': (False, False), 'inline': True, 'call_jaxpr': { lambda ; a:f64[] b:f64[]. let c:f64[] = mul b a in (c,) }}, effects=set(), source_info=SourceInfo(traceback=<jaxlib.xla_extension.Traceback object at 0x336140bf0>, name_stack=NameStack(stack=(Transform(name='jvp'),))))\n",
      "path generation time: 151.19751286506653\n",
      "longstaff schwartz time: 74.32641220092773\n",
      "Traced<ConcreteArray(0.7000000000000001, dtype=float64)>with<JVPTrace(level=2/0)> with\n",
      "  primal = DeviceArray(0.7, dtype=float64)\n",
      "  tangent = Traced<ShapedArray(float64[])>with<JaxprTrace(level=1/0)> with\n",
      "    pval = (ShapedArray(float64[]), *)\n",
      "    recipe = JaxprEqnRecipe(eqn_id=<object object at 0x34bb1bf00>, in_tracers=(Traced<ConcreteArray(1.0, dtype=float64):JaxprTrace(level=1/0)>, Traced<ShapedArray(float64[]):JaxprTrace(level=1/0)>), out_tracer_refs=[<weakref at 0x329c69a90; to 'JaxprTracer' at 0x329c69ae0>], out_avals=[ShapedArray(float64[])], primitive=xla_call, params={'device': None, 'backend': None, 'name': 'jvp(fn)', 'donated_invars': (False, False), 'inline': True, 'call_jaxpr': { lambda ; a:f64[] b:f64[]. let c:f64[] = mul b a in (c,) }}, effects=set(), source_info=SourceInfo(traceback=<jaxlib.xla_extension.Traceback object at 0x32ebe07b0>, name_stack=NameStack(stack=(Transform(name='jvp'),))))\n",
      "path generation time: 151.22811603546143\n",
      "longstaff schwartz time: 54.41038966178894\n",
      "Traced<ConcreteArray(0.9, dtype=float64)>with<JVPTrace(level=2/0)> with\n",
      "  primal = DeviceArray(0.9, dtype=float64)\n",
      "  tangent = Traced<ShapedArray(float64[])>with<JaxprTrace(level=1/0)> with\n",
      "    pval = (ShapedArray(float64[]), *)\n",
      "    recipe = JaxprEqnRecipe(eqn_id=<object object at 0x2b4df9d20>, in_tracers=(Traced<ConcreteArray(1.0, dtype=float64):JaxprTrace(level=1/0)>, Traced<ShapedArray(float64[]):JaxprTrace(level=1/0)>), out_tracer_refs=[<weakref at 0x3248e1a90; to 'JaxprTracer' at 0x3248e1ae0>], out_avals=[ShapedArray(float64[])], primitive=xla_call, params={'device': None, 'backend': None, 'name': 'jvp(fn)', 'donated_invars': (False, False), 'inline': True, 'call_jaxpr': { lambda ; a:f64[] b:f64[]. let c:f64[] = mul b a in (c,) }}, effects=set(), source_info=SourceInfo(traceback=<jaxlib.xla_extension.Traceback object at 0x32986b8f0>, name_stack=NameStack(stack=(Transform(name='jvp'),))))\n",
      "path generation time: 152.771075963974\n",
      "longstaff schwartz time: 30.05544400215149\n"
     ]
    },
    {
     "data": {
      "text/plain": [
       "[<matplotlib.lines.Line2D at 0x328125df0>]"
      ]
     },
     "execution_count": 6,
     "metadata": {},
     "output_type": "execute_result"
    },
    {
     "data": {
      "image/png": "[encoded data removed]",
      "text/plain": [
       "<Figure size 432x288 with 1 Axes>"
      ]
     },
     "metadata": {
      "needs_background": "light"
     },
     "output_type": "display_data"
    }
   ],
   "source": [
    "xi = jnp.linspace(0.1,0.9, num=5)\n",
    "yi = [delta(x, 0.0, paths = 100, steps=100, K=1.0, maturity = 1.0, data=None) for x in xi]\n",
    "\n",
    "plt.plot(xi,yi)"
   ]
  },
  {
   "cell_type": "code",
   "execution_count": 7,
   "id": "a444ef05",
   "metadata": {},
   "outputs": [
    {
     "name": "stdout",
     "output_type": "stream",
     "text": [
      "1.0\n",
      "0.9182114680150586\n"
     ]
    }
   ],
   "source": [
    "data = sabrMC(F0 = 1., N=100, T=100, n_years=1)\n",
    "print(np.mean(data[:,-1]))"
   ]
  },
  {
   "cell_type": "code",
   "execution_count": 8,
   "id": "95a4bb6d",
   "metadata": {},
   "outputs": [
    {
     "name": "stdout",
     "output_type": "stream",
     "text": [
      "<class 'jaxlib.xla_extension.DeviceArray'>\n"
     ]
    }
   ],
   "source": [
    "print(type(data))"
   ]
  },
  {
   "cell_type": "code",
   "execution_count": 9,
   "id": "84562edd",
   "metadata": {},
   "outputs": [
    {
     "name": "stdout",
     "output_type": "stream",
     "text": [
      "delta:\n",
      "longstaff schwartz time: 3.477100133895874\n",
      "0.0\n",
      "gamma:\n",
      "longstaff schwartz time: 3.4879488945007324\n",
      "0.0\n"
     ]
    }
   ],
   "source": [
    "print('delta:')\n",
    "delta = grad(put_price, argnums=0)\n",
    "print(delta(1., 0.0, paths = 100, steps=100, K=1.0, maturity = 1.0, data=data))\n",
    "print('gamma:')\n",
    "print(grad(delta)(1., 0.0, paths = 100, steps=100, K=1.0, maturity = 1.0, data=data))\n"
   ]
  }
 ],
 "metadata": {
  "kernelspec": {
   "display_name": "Python 3",
   "language": "python",
   "name": "python3"
  },
  "language_info": {
   "codemirror_mode": {
    "name": "ipython",
    "version": 3
   },
   "file_extension": ".py",
   "mimetype": "text/x-python",
   "name": "python",
   "nbconvert_exporter": "python",
   "pygments_lexer": "ipython3",
   "version": "3.7.3"
  }
 },
 "nbformat": 4,
 "nbformat_minor": 5
}
